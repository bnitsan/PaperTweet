{
 "cells": [
  {
   "cell_type": "markdown",
   "id": "6abeec52-b62f-4e85-a437-1f81b4ad9d22",
   "metadata": {},
   "source": [
    "## Mid data - test inference results"
   ]
  },
  {
   "cell_type": "code",
   "execution_count": 100,
   "id": "73558b6b-771c-4644-9587-20560022090e",
   "metadata": {},
   "outputs": [
    {
     "data": {
      "text/html": [
       "<div>\n",
       "<style scoped>\n",
       "    .dataframe tbody tr th:only-of-type {\n",
       "        vertical-align: middle;\n",
       "    }\n",
       "\n",
       "    .dataframe tbody tr th {\n",
       "        vertical-align: top;\n",
       "    }\n",
       "\n",
       "    .dataframe thead th {\n",
       "        text-align: right;\n",
       "    }\n",
       "</style>\n",
       "<table border=\"1\" class=\"dataframe\">\n",
       "  <thead>\n",
       "    <tr style=\"text-align: right;\">\n",
       "      <th></th>\n",
       "      <th>TweetID</th>\n",
       "      <th>AuthorID</th>\n",
       "      <th>AuthorName</th>\n",
       "      <th>Tweets</th>\n",
       "      <th>arxiv_link</th>\n",
       "      <th>Abstract</th>\n",
       "      <th>Title</th>\n",
       "      <th>Thread_length</th>\n",
       "      <th>Tweets_coarse</th>\n",
       "      <th>year</th>\n",
       "      <th>month</th>\n",
       "      <th>tweet_length</th>\n",
       "      <th>Generated_Tweets</th>\n",
       "      <th>BASELINE</th>\n",
       "    </tr>\n",
       "  </thead>\n",
       "  <tbody>\n",
       "    <tr>\n",
       "      <th>0</th>\n",
       "      <td>1494147269796540418</td>\n",
       "      <td>1128095824473276418</td>\n",
       "      <td>Kai Shu</td>\n",
       "      <td>Identifying disinformation in a new domain is ...</td>\n",
       "      <td>https://arxiv.org/abs/2202.08159</td>\n",
       "      <td>With social media being a major force in infor...</td>\n",
       "      <td>Domain Adaptive Fake News Detection via Reinfo...</td>\n",
       "      <td>1</td>\n",
       "      <td>['Identifying disinformation in a new domain i...</td>\n",
       "      <td>22</td>\n",
       "      <td>2</td>\n",
       "      <td>260</td>\n",
       "      <td>new paper on #FakeNewsDetection with auxiliary...</td>\n",
       "      <td>effective fake news detection is a non-trivial...</td>\n",
       "    </tr>\n",
       "    <tr>\n",
       "      <th>1</th>\n",
       "      <td>1240845694421721089</td>\n",
       "      <td>92182169</td>\n",
       "      <td>Ian Manchester</td>\n",
       "      <td>New paper (with Ray Wang and Roland Toth) intr...</td>\n",
       "      <td>https://arxiv.org/abs/2003.08513</td>\n",
       "      <td>This paper proposes a novel approach to nonlin...</td>\n",
       "      <td>Virtual Control Contraction Metrics: Convex No...</td>\n",
       "      <td>1</td>\n",
       "      <td>['New paper (with Ray Wang and Roland Toth) in...</td>\n",
       "      <td>20</td>\n",
       "      <td>3</td>\n",
       "      <td>262</td>\n",
       "      <td>paper on nonlinear state-feedback control with...</td>\n",
       "      <td>the paper proposes a novel approach to nonline...</td>\n",
       "    </tr>\n",
       "    <tr>\n",
       "      <th>2</th>\n",
       "      <td>1156466481833676800</td>\n",
       "      <td>22392129</td>\n",
       "      <td>Jasmijn Bastings</td>\n",
       "      <td>We released Joey NMT 🐨 a minimalist NMT toolki...</td>\n",
       "      <td>https://arxiv.org/abs/1907.12484</td>\n",
       "      <td>We present Joey NMT, a minimalist neural machi...</td>\n",
       "      <td>Joey NMT: A Minimalist NMT Toolkit for Novices</td>\n",
       "      <td>2</td>\n",
       "      <td>['We released Joey NMT 🐨 a minimalist NMT tool...</td>\n",
       "      <td>19</td>\n",
       "      <td>7</td>\n",
       "      <td>256</td>\n",
       "      <td>out our new paper \"Joey NMT: A Minimalist Neur...</td>\n",
       "      <td>Joey NMT is a neural machine translation toolk...</td>\n",
       "    </tr>\n",
       "    <tr>\n",
       "      <th>3</th>\n",
       "      <td>1417851297764626432</td>\n",
       "      <td>356676252</td>\n",
       "      <td>John Regan</td>\n",
       "      <td>On the @arxiv today (&lt;LINK&gt;) @Fabio_Pacucci , ...</td>\n",
       "      <td>https://arxiv.org/abs/2107.09069</td>\n",
       "      <td>The population of massive black holes (MBHs) i...</td>\n",
       "      <td>The Active Fraction of Massive Black Holes in ...</td>\n",
       "      <td>3</td>\n",
       "      <td>['On the @arxiv  today (&lt;LINK&gt;) @Fabio_Pacucci...</td>\n",
       "      <td>21</td>\n",
       "      <td>7</td>\n",
       "      <td>594</td>\n",
       "      <td>paper on the arXiv today! We develop a theoret...</td>\n",
       "      <td>the population of massive black holes (MBHs) i...</td>\n",
       "    </tr>\n",
       "  </tbody>\n",
       "</table>\n",
       "</div>"
      ],
      "text/plain": [
       "               TweetID             AuthorID        AuthorName  \\\n",
       "0  1494147269796540418  1128095824473276418           Kai Shu   \n",
       "1  1240845694421721089             92182169    Ian Manchester   \n",
       "2  1156466481833676800             22392129  Jasmijn Bastings   \n",
       "3  1417851297764626432            356676252        John Regan   \n",
       "\n",
       "                                              Tweets  \\\n",
       "0  Identifying disinformation in a new domain is ...   \n",
       "1  New paper (with Ray Wang and Roland Toth) intr...   \n",
       "2  We released Joey NMT 🐨 a minimalist NMT toolki...   \n",
       "3  On the @arxiv today (<LINK>) @Fabio_Pacucci , ...   \n",
       "\n",
       "                         arxiv_link  \\\n",
       "0  https://arxiv.org/abs/2202.08159   \n",
       "1  https://arxiv.org/abs/2003.08513   \n",
       "2  https://arxiv.org/abs/1907.12484   \n",
       "3  https://arxiv.org/abs/2107.09069   \n",
       "\n",
       "                                            Abstract  \\\n",
       "0  With social media being a major force in infor...   \n",
       "1  This paper proposes a novel approach to nonlin...   \n",
       "2  We present Joey NMT, a minimalist neural machi...   \n",
       "3  The population of massive black holes (MBHs) i...   \n",
       "\n",
       "                                               Title  Thread_length  \\\n",
       "0  Domain Adaptive Fake News Detection via Reinfo...              1   \n",
       "1  Virtual Control Contraction Metrics: Convex No...              1   \n",
       "2     Joey NMT: A Minimalist NMT Toolkit for Novices              2   \n",
       "3  The Active Fraction of Massive Black Holes in ...              3   \n",
       "\n",
       "                                       Tweets_coarse  year  month  \\\n",
       "0  ['Identifying disinformation in a new domain i...    22      2   \n",
       "1  ['New paper (with Ray Wang and Roland Toth) in...    20      3   \n",
       "2  ['We released Joey NMT 🐨 a minimalist NMT tool...    19      7   \n",
       "3  ['On the @arxiv  today (<LINK>) @Fabio_Pacucci...    21      7   \n",
       "\n",
       "   tweet_length                                   Generated_Tweets  \\\n",
       "0           260  new paper on #FakeNewsDetection with auxiliary...   \n",
       "1           262  paper on nonlinear state-feedback control with...   \n",
       "2           256  out our new paper \"Joey NMT: A Minimalist Neur...   \n",
       "3           594  paper on the arXiv today! We develop a theoret...   \n",
       "\n",
       "                                            BASELINE  \n",
       "0  effective fake news detection is a non-trivial...  \n",
       "1  the paper proposes a novel approach to nonline...  \n",
       "2  Joey NMT is a neural machine translation toolk...  \n",
       "3  the population of massive black holes (MBHs) i...  "
      ]
     },
     "execution_count": 100,
     "metadata": {},
     "output_type": "execute_result"
    }
   ],
   "source": [
    "import pandas as pd\n",
    "\n",
    "df = pd.read_csv('output_preds/data_mid_test.csv')\n",
    "df = df.iloc[:, 3:]\n",
    "df.head(4)"
   ]
  },
  {
   "cell_type": "code",
   "execution_count": 97,
   "id": "813cb75b-cf71-49c0-a2bc-d041fe9f4d9f",
   "metadata": {},
   "outputs": [],
   "source": [
    "from datasets import load_metric\n",
    "\n",
    "rouge_score = load_metric(\"rouge\")"
   ]
  },
  {
   "cell_type": "code",
   "execution_count": 98,
   "id": "fb39e1fe-19ae-4c0c-babc-e5da4bd78767",
   "metadata": {},
   "outputs": [],
   "source": [
    "score_list_gen_true = []\n",
    "score_list_gen_base_true = []\n",
    "\n",
    "score_list_gen_text = []\n",
    "score_list_gen_base_text = []\n",
    "score_list_true_text = []\n",
    "\n",
    "for i in range(len(df)):\n",
    "    label_example_gen = df['Generated_Tweets'][i]\n",
    "    label_example_gen_base = df['BASELINE'][i]\n",
    "    label_example_true = df['Tweets'][i]\n",
    "    text_example = df['Abstract'][i]\n",
    "    \n",
    "    scores_gen_true = rouge_score.compute(predictions=[label_example_gen], references=[label_example_true])\n",
    "    scores_gen_base_true = rouge_score.compute(predictions=[label_example_gen_base], references=[label_example_true])\n",
    "\n",
    "    scores_gen_text = rouge_score.compute(predictions=[label_example_gen], references=[text_example])\n",
    "    scores_gen_base_text = rouge_score.compute(predictions=[label_example_gen_base], references=[text_example])\n",
    "    scores_true_text = rouge_score.compute(predictions=[label_example_true], references=[text_example])\n",
    "    \n",
    "    score_list_gen_true.append(scores_gen_true)\n",
    "    score_list_gen_base_true.append(scores_gen_base_true)\n",
    "\n",
    "    score_list_gen_text.append(scores_gen_text)\n",
    "    score_list_gen_base_text.append(scores_gen_base_text)\n",
    "    score_list_true_text.append(scores_true_text)"
   ]
  },
  {
   "cell_type": "code",
   "execution_count": 99,
   "id": "0851cb4e-d99e-4a8a-914a-bc4947e97908",
   "metadata": {},
   "outputs": [
    {
     "data": {
      "image/png": "[encoded data removed]",
      "text/plain": [
       "<Figure size 1440x360 with 3 Axes>"
      ]
     },
     "metadata": {
      "needs_background": "light"
     },
     "output_type": "display_data"
    }
   ],
   "source": [
    "import matplotlib.pyplot as plt\n",
    "import numpy as np\n",
    "\n",
    "def ROUGE_hist(type_rouge, axes1, axes2, bins=20):\n",
    "    rouge1_mid_fmeasure_gen_true = [score_list_gen_true[i][type_rouge].mid.fmeasure for i in range(len(score_list_gen_true))]\n",
    "    rouge1_mid_fmeasure_gen_base_true = [score_list_gen_base_true[i][type_rouge].mid.fmeasure for i in range(len(score_list_gen_base_true))]\n",
    "\n",
    "    rouge1_mid_fmeasure_gen_text = [score_list_gen_text[i][type_rouge].mid.fmeasure for i in range(len(score_list_gen_text))]\n",
    "    rouge1_mid_fmeasure_gen_base_text = [score_list_gen_base_text[i][type_rouge].mid.fmeasure for i in range(len(score_list_gen_base_text))]\n",
    "    rouge1_mid_fmeasure_true_text = [score_list_true_text[i][type_rouge].mid.fmeasure for i in range(len(score_list_true_text))]\n",
    "\n",
    "    axes1.hist(rouge1_mid_fmeasure_gen_true, alpha=0.5, bins=bins)\n",
    "    axes1.hist(rouge1_mid_fmeasure_gen_base_true, alpha=0.5, bins=bins)\n",
    "\n",
    "    axes1.set_xlabel(type_rouge + ' mid f measure score')\n",
    "    #axes1.set_ylabel('Tweets')\n",
    "    #axes1.set_yscale(\"log\")\n",
    "    axes1.legend(['True vs. Generated','True vs. Generated-baseline'])\n",
    "\n",
    "    if axes2 == None:\n",
    "        return\n",
    "    axes2.hist(rouge1_mid_fmeasure_gen_text, alpha=0.5, bins=bins)\n",
    "    axes2.hist(rouge1_mid_fmeasure_gen_base_text, alpha=0.5, bins=bins)\n",
    "    axes2.hist(rouge1_mid_fmeasure_true_text, alpha=0.5, bins=bins)\n",
    "\n",
    "    #axes2.set_xlabel(type_rouge + ' mid f measure score')\n",
    "    #axes2.set_ylabel('Tweets')\n",
    "    #axes2.set_yscale(\"log\")\n",
    "    axes2.legend(['Generated vs. Input','Generated-baseline vs. Input','True vs. Input'])\n",
    "\n",
    "fig, axes = plt.subplots(1, 3, figsize=(20, 5))\n",
    "\n",
    "ROUGE_hist('rouge1', axes[0], None, bins=np.arange(0, 1.0, 0.05))\n",
    "ROUGE_hist('rouge2', axes[1], None, bins=np.arange(0, 1.0, 0.05))\n",
    "ROUGE_hist('rougeL', axes[2], None, bins=np.arange(0, 1.0, 0.05))\n",
    "\n",
    "fig.savefig('figures/rouge_hist.png',facecolor='white')"
   ]
  },
  {
   "cell_type": "code",
   "execution_count": 89,
   "id": "54e04783",
   "metadata": {},
   "outputs": [
    {
     "data": {
      "image/png": "[encoded data removed]",
      "text/plain": [
       "<Figure size 1440x720 with 6 Axes>"
      ]
     },
     "metadata": {
      "needs_background": "light"
     },
     "output_type": "display_data"
    }
   ],
   "source": [
    "# it is also possible to add another line in the grid, re-purposing the ROUGE metric for comparison between text-to-be-summarized and the generated summary\n",
    "\n",
    "fig, axes = plt.subplots(2, 3, figsize=(20, 10))\n",
    "\n",
    "ROUGE_hist('rouge1', axes[0, 0], axes[1, 0], bins=np.arange(0, 1.0, 0.05))\n",
    "ROUGE_hist('rouge2', axes[0, 1], axes[1, 1], bins=np.arange(0, 1.0, 0.05))\n",
    "ROUGE_hist('rougeL', axes[0, 2], axes[1, 2], bins=np.arange(0, 1.0, 0.05))"
   ]
  },
  {
   "cell_type": "markdown",
   "id": "6ffcdcb0",
   "metadata": {},
   "source": [
    "### Examples"
   ]
  },
  {
   "cell_type": "code",
   "execution_count": 68,
   "id": "108edc3e",
   "metadata": {},
   "outputs": [
    {
     "name": "stdout",
     "output_type": "stream",
     "text": [
      "ABSTRACT:                    The scope of the project \"A PSF-based Approach to TESS High Quality data Of Stellar clusters\" (PATHOS) is the extraction and analysis of high-precision light curves of stars in stellar clusters and young associations for the identification of candidate exoplanets and variable stars. The cutting-edge tools used in this project allow us to measure the real flux of stars in dense fields, minimising the effects due to contamination by neighbour sources. We extracted about 200 000 light curves of stars in 645 open clusters located in the southern ecliptic hemisphere and observed by TESS during the first year of its mission. We searched for transiting signals and we found 33 objects of interest, 11 of them are strong candidate exoplanets. Because of the limited S/N, we did not find any Earth or super-Earth. We identified two Neptune-size planets orbiting stars with $R_{\\star}<1.5\\,R_{\\odot}$, implying a frequency $f_{\\star}=1.34 \\pm 0.95\\,\\%$, consistent with the frequency around field stars. The 7 Jupiter candidates around stars with $R_{\\star}<\\,1.5R_{\\odot}$ imply a frequency $f_{\\star}=0.19\\pm 0.07\\,\\%$, smaller than in the field. A more complete estimate of the survey completeness and false positive rate is needed to confirm these results. Light curves used in this work will be made available to the astronomical community on the Mikulski Archive for Space Telescope under the project PATHOS. \n",
      "\n",
      "True Twitter Thread:         My 10th paper as 1st author and maybe one of the hardest works I have done so far. Many new candidate worlds orbiting stars in open clusters!🪐 Paper #10 come primo autore, forse uno dei piu` impegnativi. Tanti nuovi candidati pianeti in ammassi aperti!😀 <LINK> This is also my first work as 1st author since when I work at @LAM_Marseille as @CNES fellow! 😀 @AdrienCoffinet Yes! Pathos 1 was discovered in paper I (Nardiello et al. 2019). An updated list of PATHOS candidates is now available here: <LINK>\n",
      "\n",
      "Generated \"Tweets\":          paper on the arXiv today! We extracted about 200 000 light curves of stars in 645 open clusters located in the southern hemisphere and observed by TESS during the first year of its mission. We searched for transiting signals and found 33 objects of interest, 11 of them are strong candidate exoplanets.\n",
      "\n",
      "Generated Baseline Summary:  the scope of the project is the extraction and analysis of high-precision light curves of stars. the tools are used to measure the real flux of stars in dense fields. eleven of the 33 objects of interest are strong candidate exoplanets.\n",
      " --------------------------------------------------\n",
      "ABSTRACT:                    We continue earlier efforts in computing the dimensions of tangent space cohomologies of Calabi-Yau manifolds using deep learning. In this paper, we consider the dataset of all Calabi-Yau four-folds constructed as complete intersections in products of projective spaces. Employing neural networks inspired by state-of-the-art computer vision architectures, we improve earlier benchmarks and demonstrate that all four non-trivial Hodge numbers can be learned at the same time using a multi-task architecture. With 30% (80%) training ratio, we reach an accuracy of 100% for $h^{(1,1)}$ and 97% for $h^{(2,1)}$ (100% for both), 81% (96%) for $h^{(3,1)}$, and 49% (83%) for $h^{(2,2)}$. Assuming that the Euler number is known, as it is easy to compute, and taking into account the linear constraint arising from index computations, we get 100% total accuracy. \n",
      "\n",
      "True Twitter Thread:         New paper with @thesfinox, Robin Schneider and Mohamed Tamaazousti: we compute Hodge numbers for complete intersection #CalabiYau using #DeepLearning. Accuracy for 80% training ratio: 100% for h(1,1) and h(2,1), 96% for h(3,1), 83% for h(2,2) <LINK> @thesfinox And it's a new milestone since it's my 30th paper!\n",
      "\n",
      "Generated \"Tweets\":          new paper is out on arXiv! We study the dimensions of tangent space cohomologies of Calabi-Yau manifolds using deep learning. We use neural networks inspired by state-of-the-art computer vision architectures and show that all four non-trivial Hodge numbers can be learned at the same time using a multi-task architecture.\n",
      "\n",
      "Generated Baseline Summary:  paper examines dimensions of tangent space cohomologies of Calabi-Yau manifolds. we demonstrate that all four non-trivial Hodge numbers can be learned at the same time. using 30% (80%) training ratio, we reach an accuracy of 100% for $h(1,1)$.\n",
      " --------------------------------------------------\n",
      "ABSTRACT:                    One of the preeminent obstacles to scaling multi-agent reinforcement learning to large numbers of agents is assigning credit to individual agents' actions. In this paper, we address this credit assignment problem with an approach that we call \\textit{partial reward decoupling} (PRD), which attempts to decompose large cooperative multi-agent RL problems into decoupled subproblems involving subsets of agents, thereby simplifying credit assignment. We empirically demonstrate that decomposing the RL problem using PRD in an actor-critic algorithm results in lower variance policy gradient estimates, which improves data efficiency, learning stability, and asymptotic performance across a wide array of multi-agent RL tasks, compared to various other actor-critic approaches. Additionally, we relate our approach to counterfactual multi-agent policy gradient (COMA), a state-of-the-art MARL algorithm, and empirically show that our approach outperforms COMA by making better use of information in agents' reward streams, and by enabling recent advances in advantage estimation to be used. \n",
      "\n",
      "True Twitter Thread:         Check out our new paper! We automatically decompose large MA problems to be solved efficiently with #reinforcementlearning while maintaining cooperation 🦾.(with @_AdityaKapoor_, @ianabraha, @jeffschneider, Jeff Schneider, and @howiechoset) #deeplearning <LINK>\n",
      "\n",
      "Generated \"Tweets\":          new paper on credit assignment in multi-agent RL is out! We use partial reward decoupling (PRD) to simplify credit assignment, and show that PRD improves data efficiency, learning stability, and asymptotic performance across a wide array of multi-agent RL tasks.\n",
      "\n",
      "Generated Baseline Summary:  textitpartial reward decoupling (PRD) attempts to simplify credit assignment. the approach decomposes large cooperative multi-agent RL problems into subproblems. it improves data efficiency, learning stability, and asymptotic performance.\n",
      " --------------------------------------------------\n"
     ]
    }
   ],
   "source": [
    "# sample n rows from df\n",
    "n = 3\n",
    "df_examples = df.sample(n)\n",
    "\n",
    "# run over df_examples\n",
    "for i in range(n):\n",
    "    print('ABSTRACT:                    ' + df_examples.iloc[i]['Abstract']+\"\\n\")\n",
    "    print('True Twitter Thread:         ' + df_examples.iloc[i]['Tweets']+\"\\n\")\n",
    "    print('Generated \"Tweets\":          ' + df_examples.iloc[i]['Generated_Tweets']+\"\\n\")\n",
    "    print('Generated Baseline Summary:  ' + df_examples.iloc[i]['BASELINE']+\"\\n --------------------------------------------------\")\n",
    "\n"
   ]
  },
  {
   "cell_type": "markdown",
   "id": "3b0b5367-81c8-4f82-a0e8-425084f8f6ee",
   "metadata": {},
   "source": [
    "## External papers - my papers"
   ]
  },
  {
   "cell_type": "code",
   "execution_count": 101,
   "id": "98c1ded9-b4f8-40e1-9df6-d0b3a792faa2",
   "metadata": {},
   "outputs": [],
   "source": [
    "import pandas as pd\n",
    "df_my_papers = pd.read_csv('output_preds/my_data.csv')"
   ]
  },
  {
   "cell_type": "code",
   "execution_count": 102,
   "id": "77368ed3",
   "metadata": {},
   "outputs": [
    {
     "name": "stdout",
     "output_type": "stream",
     "text": [
      "ABSTRACT:                    We study the ratio of neutrino-proton elastic scattering to inverse beta decay event counts, measurable in a scintillation detector like JUNO, as a key observable for identifying the explosion mechanism of a galactic core-collapse supernova. If the supernova is not powered by the core but rather, e.g., by collapse-induced thermonuclear explosion, then a prolonged period of accretion-dominated neutrino luminosity is predicted. Using 1D numerical simulations, we show that the distinct resulting flavour composition of the neutrino burst can be tested in JUNO with high significance, overcoming theoretical uncertainties in the progenitor star profile and equation of state. \n",
      "\n",
      "Generated \"Tweets\":          paper on the arXiv today! We study the ratio of neutrino-proton elastic scattering to inverse beta decay event counts, measurable in a scintillation detector like JUNO, as a key observable for identifying the explosion mechanism of a galactic core-collapse supernova.\n",
      "\n",
      "Generated Baseline Summary:  the ratio of neutrino-proton elastic scattering to inverse beta decay event counts is measurable in a scintillation detector like JUNO. if the supernova is not powered by the core but rather by collapse-induced thermonuclear explosion, then a prolonged period of accretion-dominated neutrino luminosity is predicted.\n",
      " --------------------------------------------------\n",
      "ABSTRACT:                    Analytic arguments and numerical simulations show that bosonic ultra-light dark matter (ULDM) would form cored density distributions (`solitons') at the center of galaxies. ULDM solitons offer a promising way to exclude or detect ULDM by looking for a distinctive feature in the central region of galactic rotation curves. Baryonic contributions to the gravitational potential pose an obstacle to such analyses, being (i) dynamically important in the inner galaxy and (ii) highly non-spherical in rotation-supported galaxies, resulting in non-spherical solitons. We present an algorithm for finding the ground state soliton solution in the presence of stationary non-spherical background baryonic mass distribution. We quantify the impact of baryons on the predicted ULDM soliton in the Milky Way and in low surface-brightness galaxies from the SPARC database. \n",
      "\n",
      "Generated \"Tweets\":          paper on the arXiv today! We show that solitons of bosonic ultra-light dark matter (ULDM) would form cored density distributions at the center of galaxies. This is a promising way to exclude or detect ULDM by looking for a distinctive feature in the central region of galactic rotation curves.\n",
      "\n",
      "Generated Baseline Summary:  bosonic ultra-light dark matter (ULDM) would form'solitons' at the center of galaxies. solitons offer a promising way to exclude or detect ULDM by looking for a distinctive feature. baryonic contributions to the gravitational potential pose an obstacle to such analyses.\n",
      " --------------------------------------------------\n",
      "ABSTRACT:                    Turbulent thermal diffusion is a combined effect of the temperature stratified turbulence and inertia of small particles. It causes the appearance of a non-diffusive turbulent flux of particles in the direction of the turbulent heat flux. This non-diffusive turbulent flux of particles is proportional to the product of the mean particle number density and the effective velocity of inertial particles. The theory of this effect has been previously developed only for small temperature gradients and small Stokes numbers (Phys. Rev. Lett. {\\bf 76}, 224, 1996). In this study a generalized theory of turbulent thermal diffusion for arbitrary temperature gradients and Stokes numbers has been developed. The laboratory experiments in the oscillating grid turbulence and in the multi-fan produced turbulence have been performed to validate the theory of turbulent thermal diffusion in strongly stratified turbulent flows. It has been shown that the ratio of the effective velocity of inertial particles to the characteristic vertical turbulent velocity for large Reynolds numbers is less than 1. The effective velocity of inertial particles as well as the effective coefficient of turbulent thermal diffusion increase with Stokes numbers reaching the maximum at small Stokes numbers and decreases for larger Stokes numbers. The effective coefficient of turbulent thermal diffusion also decreases with the mean temperature gradient. It has been demonstrated that the developed theory is in a good agreement with the results of the laboratory experiments. \n",
      "\n",
      "Generated \"Tweets\":          new paper on turbulent thermal diffusion for arbitrary temperature gradients and Stokes numbers has been accepted to @arxiv. It shows that the effective velocity of inertial particles to the characteristic vertical turbulent velocity is less than 1. The effective velocity of inertial particles and the effective coefficient of turbulent thermal diffusion increase with Stokes numbers reaching the maximum at small Stokes numbers and decreases for larger Stokes numbers.\n",
      "\n",
      "Generated Baseline Summary:  turbulent thermal diffusion is a combined effect of the temperature stratified turbulence and inertia of small particles. it causes the appearance of a non-diffusive turbulent flux of particles in the direction of the turbulent heat flux.\n",
      " --------------------------------------------------\n"
     ]
    }
   ],
   "source": [
    "# sample n rows from df\n",
    "n = 3\n",
    "df_examples = df_my_papers.sample(n)\n",
    "\n",
    "# run over df_examples\n",
    "for i in range(n):\n",
    "    print('ABSTRACT:                    ' + df_examples.iloc[i]['Abstract']+\"\\n\")\n",
    "    print('Generated \"Tweets\":          ' + df_examples.iloc[i]['Generated_Tweets']+\"\\n\")\n",
    "    print('Generated Baseline Summary:  ' + df_examples.iloc[i]['BASELINE']+\"\\n --------------------------------------------------\")\n"
   ]
  }
 ],
 "metadata": {
  "interpreter": {
   "hash": "cfe51a626cda2b044dfd7223b65bea869adf91f1a20dfea9a2d4979b930fc724"
  },
  "kernelspec": {
   "display_name": "Python 3.9.7 ('base')",
   "language": "python",
   "name": "python3"
  },
  "language_info": {
   "codemirror_mode": {
    "name": "ipython",
    "version": 3
   },
   "file_extension": ".py",
   "mimetype": "text/x-python",
   "name": "python",
   "nbconvert_exporter": "python",
   "pygments_lexer": "ipython3",
   "version": "3.9.7"
  }
 },
 "nbformat": 4,
 "nbformat_minor": 5
}
