{
 "cells": [
  {
   "cell_type": "markdown",
   "id": "a030b435-244e-4e80-84e9-542e44065bd2",
   "metadata": {},
   "source": [
    "# Load basic files, clean duplicates, save"
   ]
  },
  {
   "cell_type": "code",
   "execution_count": 1,
   "id": "b05d2db0-c1d0-4ceb-9f4f-59d6275e2e2b",
   "metadata": {},
   "outputs": [],
   "source": [
    "import pandas as pd\n",
    "import glob\n",
    "import ast\n",
    "import re\n",
    "\n",
    "# All files and directories ending with .txt and that don't begin with a dot:\n",
    "files = glob.glob(\"data_pull/output/*.csv\")\n",
    "files.sort()"
   ]
  },
  {
   "cell_type": "code",
   "execution_count": 53,
   "id": "88bbbb6a-fbc5-4be0-81eb-8e29ac6adb44",
   "metadata": {},
   "outputs": [
    {
     "data": {
      "text/html": [
       "<div>\n",
       "<style scoped>\n",
       "    .dataframe tbody tr th:only-of-type {\n",
       "        vertical-align: middle;\n",
       "    }\n",
       "\n",
       "    .dataframe tbody tr th {\n",
       "        vertical-align: top;\n",
       "    }\n",
       "\n",
       "    .dataframe thead th {\n",
       "        text-align: right;\n",
       "    }\n",
       "</style>\n",
       "<table border=\"1\" class=\"dataframe\">\n",
       "  <thead>\n",
       "    <tr style=\"text-align: right;\">\n",
       "      <th></th>\n",
       "      <th>Unnamed: 0</th>\n",
       "      <th>TweetID</th>\n",
       "      <th>AuthorID</th>\n",
       "      <th>AuthorName</th>\n",
       "      <th>Tweets</th>\n",
       "      <th>arxiv_link</th>\n",
       "      <th>Abstract</th>\n",
       "      <th>Title</th>\n",
       "      <th>Thread_length</th>\n",
       "    </tr>\n",
       "  </thead>\n",
       "  <tbody>\n",
       "    <tr>\n",
       "      <th>0</th>\n",
       "      <td>0</td>\n",
       "      <td>695565872891621376</td>\n",
       "      <td>75249390</td>\n",
       "      <td>Axel Maas</td>\n",
       "      <td>[I have published a new blog entry on our rece...</td>\n",
       "      <td>http://arxiv.org/abs/1601.02006</td>\n",
       "      <td>Observable states are gauge-invariant. In a no...</td>\n",
       "      <td>Gauge invariance and the physical spectrum in ...</td>\n",
       "      <td>1</td>\n",
       "    </tr>\n",
       "    <tr>\n",
       "      <th>1</th>\n",
       "      <td>1</td>\n",
       "      <td>694223402932899841</td>\n",
       "      <td>212431150</td>\n",
       "      <td>Faryad Sahneh</td>\n",
       "      <td>[Our new paper: \"Sequential Monte Carlo Filter...</td>\n",
       "      <td>http://arxiv.org/abs/1601.07606</td>\n",
       "      <td>We use a multivariate formulation of sequentia...</td>\n",
       "      <td>Sequential Monte Carlo Filtering Estimation of...</td>\n",
       "      <td>1</td>\n",
       "    </tr>\n",
       "    <tr>\n",
       "      <th>2</th>\n",
       "      <td>2</td>\n",
       "      <td>694093392414937088</td>\n",
       "      <td>2999702157</td>\n",
       "      <td>Anton Ilderton</td>\n",
       "      <td>[New paper on measuring vacuum birefringence u...</td>\n",
       "      <td>http://arxiv.org/abs/1601.08045</td>\n",
       "      <td>The measurement of vacuum polarisation effects...</td>\n",
       "      <td>Prospects for studying vacuum polarisation usi...</td>\n",
       "      <td>1</td>\n",
       "    </tr>\n",
       "    <tr>\n",
       "      <th>3</th>\n",
       "      <td>3</td>\n",
       "      <td>694076172372697088</td>\n",
       "      <td>1430303833</td>\n",
       "      <td>Dave Woods</td>\n",
       "      <td>[New paper on arXiv on screening for GLMs with...</td>\n",
       "      <td>http://arxiv.org/abs/1601.08088</td>\n",
       "      <td>The first investigation is made of designs for...</td>\n",
       "      <td>Model selection via Bayesian information capac...</td>\n",
       "      <td>1</td>\n",
       "    </tr>\n",
       "  </tbody>\n",
       "</table>\n",
       "</div>"
      ],
      "text/plain": [
       "   Unnamed: 0             TweetID    AuthorID      AuthorName  \\\n",
       "0           0  695565872891621376    75249390       Axel Maas   \n",
       "1           1  694223402932899841   212431150   Faryad Sahneh   \n",
       "2           2  694093392414937088  2999702157  Anton Ilderton   \n",
       "3           3  694076172372697088  1430303833      Dave Woods   \n",
       "\n",
       "                                              Tweets  \\\n",
       "0  [I have published a new blog entry on our rece...   \n",
       "1  [Our new paper: \"Sequential Monte Carlo Filter...   \n",
       "2  [New paper on measuring vacuum birefringence u...   \n",
       "3  [New paper on arXiv on screening for GLMs with...   \n",
       "\n",
       "                        arxiv_link  \\\n",
       "0  http://arxiv.org/abs/1601.02006   \n",
       "1  http://arxiv.org/abs/1601.07606   \n",
       "2  http://arxiv.org/abs/1601.08045   \n",
       "3  http://arxiv.org/abs/1601.08088   \n",
       "\n",
       "                                            Abstract  \\\n",
       "0  Observable states are gauge-invariant. In a no...   \n",
       "1  We use a multivariate formulation of sequentia...   \n",
       "2  The measurement of vacuum polarisation effects...   \n",
       "3  The first investigation is made of designs for...   \n",
       "\n",
       "                                               Title  Thread_length  \n",
       "0  Gauge invariance and the physical spectrum in ...              1  \n",
       "1  Sequential Monte Carlo Filtering Estimation of...              1  \n",
       "2  Prospects for studying vacuum polarisation usi...              1  \n",
       "3  Model selection via Bayesian information capac...              1  "
      ]
     },
     "execution_count": 53,
     "metadata": {},
     "output_type": "execute_result"
    }
   ],
   "source": [
    "# concatenate all months csv\n",
    "df_all = pd.read_csv(files[0])\n",
    "for i in range(1,len(files)):\n",
    "    df_i = pd.read_csv(files[i])\n",
    "    if len(df_i) > 0:\n",
    "        #df_all.append(pd.read_csv(files[i]))\n",
    "        df_all = pd.concat([df_all, df_i])\n",
    "\n",
    "# evaluate the saved textual-lists to lists of strings \n",
    "df_all['Tweets'] = df_all['Tweets'].apply(lambda x: ast.literal_eval(x))\n",
    "\n",
    "# drop duplicates that arise from overlapping queries. We note that some papers may still have multiple Tweets about them.\n",
    "df = df_all.drop_duplicates(subset=['TweetID'])\n",
    "\n",
    "# add length of tweets\n",
    "df.insert(len(df.columns), \"Thread_length\", df['Tweets'].apply(lambda x: len(x)))\n",
    "df.head(4)"
   ]
  },
  {
   "cell_type": "code",
   "execution_count": 54,
   "id": "f0740026-7834-42de-bca4-1bff452d188d",
   "metadata": {},
   "outputs": [
    {
     "name": "stderr",
     "output_type": "stream",
     "text": [
      "/var/folders/gz/4p3q1cwx0r9gcrv9d_mdl_vh0000gn/T/ipykernel_57376/888368646.py:21: SettingWithCopyWarning: \n",
      "A value is trying to be set on a copy of a slice from a DataFrame.\n",
      "Try using .loc[row_indexer,col_indexer] = value instead\n",
      "\n",
      "See the caveats in the documentation: https://pandas.pydata.org/pandas-docs/stable/user_guide/indexing.html#returning-a-view-versus-a-copy\n",
      "  df['Tweets'] = df['Tweets_coarse'].apply(lambda x: replace_phrases_clean_concat(x))  # gives a warning; false positive, I think\n"
     ]
    },
    {
     "data": {
      "text/html": [
       "<div>\n",
       "<style scoped>\n",
       "    .dataframe tbody tr th:only-of-type {\n",
       "        vertical-align: middle;\n",
       "    }\n",
       "\n",
       "    .dataframe tbody tr th {\n",
       "        vertical-align: top;\n",
       "    }\n",
       "\n",
       "    .dataframe thead th {\n",
       "        text-align: right;\n",
       "    }\n",
       "</style>\n",
       "<table border=\"1\" class=\"dataframe\">\n",
       "  <thead>\n",
       "    <tr style=\"text-align: right;\">\n",
       "      <th></th>\n",
       "      <th>Unnamed: 0</th>\n",
       "      <th>TweetID</th>\n",
       "      <th>AuthorID</th>\n",
       "      <th>AuthorName</th>\n",
       "      <th>Tweets</th>\n",
       "      <th>arxiv_link</th>\n",
       "      <th>Abstract</th>\n",
       "      <th>Title</th>\n",
       "      <th>Thread_length</th>\n",
       "      <th>Tweets_coarse</th>\n",
       "    </tr>\n",
       "  </thead>\n",
       "  <tbody>\n",
       "    <tr>\n",
       "      <th>0</th>\n",
       "      <td>0</td>\n",
       "      <td>695565872891621376</td>\n",
       "      <td>75249390</td>\n",
       "      <td>Axel Maas</td>\n",
       "      <td>I have published a new blog entry on our recen...</td>\n",
       "      <td>http://arxiv.org/abs/1601.02006</td>\n",
       "      <td>Observable states are gauge-invariant. In a no...</td>\n",
       "      <td>Gauge invariance and the physical spectrum in ...</td>\n",
       "      <td>1</td>\n",
       "      <td>[I have published a new blog entry on our rece...</td>\n",
       "    </tr>\n",
       "    <tr>\n",
       "      <th>1</th>\n",
       "      <td>1</td>\n",
       "      <td>694223402932899841</td>\n",
       "      <td>212431150</td>\n",
       "      <td>Faryad Sahneh</td>\n",
       "      <td>Our new paper: \"Sequential Monte Carlo Filteri...</td>\n",
       "      <td>http://arxiv.org/abs/1601.07606</td>\n",
       "      <td>We use a multivariate formulation of sequentia...</td>\n",
       "      <td>Sequential Monte Carlo Filtering Estimation of...</td>\n",
       "      <td>1</td>\n",
       "      <td>[Our new paper: \"Sequential Monte Carlo Filter...</td>\n",
       "    </tr>\n",
       "    <tr>\n",
       "      <th>2</th>\n",
       "      <td>2</td>\n",
       "      <td>694093392414937088</td>\n",
       "      <td>2999702157</td>\n",
       "      <td>Anton Ilderton</td>\n",
       "      <td>New paper on measuring vacuum birefringence us...</td>\n",
       "      <td>http://arxiv.org/abs/1601.08045</td>\n",
       "      <td>The measurement of vacuum polarisation effects...</td>\n",
       "      <td>Prospects for studying vacuum polarisation usi...</td>\n",
       "      <td>1</td>\n",
       "      <td>[New paper on measuring vacuum birefringence u...</td>\n",
       "    </tr>\n",
       "    <tr>\n",
       "      <th>3</th>\n",
       "      <td>3</td>\n",
       "      <td>694076172372697088</td>\n",
       "      <td>1430303833</td>\n",
       "      <td>Dave Woods</td>\n",
       "      <td>New paper on arXiv on screening for GLMs with ...</td>\n",
       "      <td>http://arxiv.org/abs/1601.08088</td>\n",
       "      <td>The first investigation is made of designs for...</td>\n",
       "      <td>Model selection via Bayesian information capac...</td>\n",
       "      <td>1</td>\n",
       "      <td>[New paper on arXiv on screening for GLMs with...</td>\n",
       "    </tr>\n",
       "  </tbody>\n",
       "</table>\n",
       "</div>"
      ],
      "text/plain": [
       "   Unnamed: 0             TweetID    AuthorID      AuthorName  \\\n",
       "0           0  695565872891621376    75249390       Axel Maas   \n",
       "1           1  694223402932899841   212431150   Faryad Sahneh   \n",
       "2           2  694093392414937088  2999702157  Anton Ilderton   \n",
       "3           3  694076172372697088  1430303833      Dave Woods   \n",
       "\n",
       "                                              Tweets  \\\n",
       "0  I have published a new blog entry on our recen...   \n",
       "1  Our new paper: \"Sequential Monte Carlo Filteri...   \n",
       "2  New paper on measuring vacuum birefringence us...   \n",
       "3  New paper on arXiv on screening for GLMs with ...   \n",
       "\n",
       "                        arxiv_link  \\\n",
       "0  http://arxiv.org/abs/1601.02006   \n",
       "1  http://arxiv.org/abs/1601.07606   \n",
       "2  http://arxiv.org/abs/1601.08045   \n",
       "3  http://arxiv.org/abs/1601.08088   \n",
       "\n",
       "                                            Abstract  \\\n",
       "0  Observable states are gauge-invariant. In a no...   \n",
       "1  We use a multivariate formulation of sequentia...   \n",
       "2  The measurement of vacuum polarisation effects...   \n",
       "3  The first investigation is made of designs for...   \n",
       "\n",
       "                                               Title  Thread_length  \\\n",
       "0  Gauge invariance and the physical spectrum in ...              1   \n",
       "1  Sequential Monte Carlo Filtering Estimation of...              1   \n",
       "2  Prospects for studying vacuum polarisation usi...              1   \n",
       "3  Model selection via Bayesian information capac...              1   \n",
       "\n",
       "                                       Tweets_coarse  \n",
       "0  [I have published a new blog entry on our rece...  \n",
       "1  [Our new paper: \"Sequential Monte Carlo Filter...  \n",
       "2  [New paper on measuring vacuum birefringence u...  \n",
       "3  [New paper on arXiv on screening for GLMs with...  "
      ]
     },
     "execution_count": 54,
     "metadata": {},
     "output_type": "execute_result"
    }
   ],
   "source": [
    "# in this block we clean media and urls from tweets, replacing by <LINK>, and we concat tweets threads into a single string.\n",
    "\n",
    "def clean_urls(tweet, token='<LINK>'):\n",
    "    urls = re.findall('https?://t.co/[0-9a-zA-Z]+',tweet)\n",
    "    for url in urls:\n",
    "        tweet = tweet.replace(url, token)\n",
    "    return tweet\n",
    "\n",
    "\n",
    "def replace_phrases_clean_concat(tweet_list, replace_dict={'&amp;': '&', '\\n': ' ', '  ': ' '}):\n",
    "    tweet_final = ''\n",
    "    for tweet in tweet_list:\n",
    "        tweet = clean_urls(tweet)\n",
    "        for initial, word in replace_dict.items():\n",
    "            tweet = tweet.replace(initial, word)\n",
    "        tweet_final = tweet_final + ' ' + tweet\n",
    "    tweet_final = tweet_final[1:] # remove extra ' '\n",
    "    return tweet_final\n",
    "\n",
    "df.insert(len(df.columns), \"Tweets_coarse\", df['Tweets'])\n",
    "df['Tweets'] = df['Tweets_coarse'].apply(lambda x: replace_phrases_clean_concat(x))  # gives a warning; false positive, I think\n",
    "\n",
    "df.head(4)"
   ]
  },
  {
   "cell_type": "code",
   "execution_count": 56,
   "id": "e33cc7ce-ef1b-46b6-844e-26b31d178178",
   "metadata": {},
   "outputs": [],
   "source": [
    "# drop extra column and save full dataset\n",
    "df = df.drop(['Unnamed: 0'], axis=1)\n",
    "df.to_csv('data/full_data.csv')"
   ]
  },
  {
   "cell_type": "markdown",
   "id": "81ae30d7-0246-4474-afe2-3edd4123d95d",
   "metadata": {},
   "source": [
    "# General statistical properties"
   ]
  },
  {
   "cell_type": "code",
   "execution_count": 1,
   "id": "f2b77061-0f6e-4d97-837b-fa0cee65dc88",
   "metadata": {},
   "outputs": [],
   "source": [
    "# load full data\n",
    "import pandas as pd\n",
    "df = pd.read_csv('data/full_data.csv')"
   ]
  },
  {
   "cell_type": "code",
   "execution_count": 26,
   "id": "b28c4818",
   "metadata": {},
   "outputs": [
    {
     "name": "stdout",
     "output_type": "stream",
     "text": [
      "0\n",
      "0\n"
     ]
    }
   ],
   "source": [
    "# compute character length of tweets\n",
    "tweet_lengths = df['Tweets'].apply(lambda x: len(x)).to_numpy()\n",
    "\n",
    "# get year-month from arXiv link\n",
    "import re\n",
    "nums_yr_mon = df['arxiv_link'].apply(lambda x: re.search('\\d+.\\d+',x).group()[0:4])  # in rare cases the arXiv link is weird, so better to regex it\n",
    "\n",
    "years = nums_yr_mon.apply(lambda x: x[0:2])\n",
    "months = nums_yr_mon.apply(lambda x: x[2:])\n",
    "df['year'] = years\n",
    "df['month'] = months\n",
    "\n",
    "# check healthiness of conversion: if any of year/month are not ints, we have a problem\n",
    "def is_not_int(x):\n",
    "    try:\n",
    "        int(x)\n",
    "        return False\n",
    "    except ValueError:\n",
    "        return True\n",
    "# make sure we have ints in year and month. print should yield 0's\n",
    "print(len(df[df['year'].apply(lambda x: is_not_int(x))]))\n",
    "print(len(df[df['month'].apply(lambda x: is_not_int(x))]))\n",
    "\n",
    "# count number of Tweets per year\n",
    "num_per_year = [len(df.loc[df['year']==str(yr_i)]) for yr_i in range(16,23)]"
   ]
  },
  {
   "cell_type": "markdown",
   "id": "0fc33685-5357-4143-b3ad-0a00bd32882d",
   "metadata": {},
   "source": [
    "### Histogram of tweets with X number of characters"
   ]
  },
  {
   "cell_type": "code",
   "execution_count": 3,
   "id": "f6670874-d452-485b-8532-60bfe91db3ca",
   "metadata": {},
   "outputs": [
    {
     "data": {
      "image/png": "[encoded data removed]",
      "text/plain": [
       "<Figure size 432x288 with 1 Axes>"
      ]
     },
     "metadata": {
      "needs_background": "light"
     },
     "output_type": "display_data"
    }
   ],
   "source": [
    "import matplotlib.pyplot as plt\n",
    "import numpy as np\n",
    "\n",
    "plt.hist(tweet_lengths, bins=30)\n",
    "plt.xlabel('Num. of chars per tweets')\n",
    "plt.ylabel('Tweets')\n",
    "plt.yscale(\"log\")\n",
    "\n",
    "c1 = np.arange(0.0, 12200, 1)\n",
    "t1 = 1400*np.exp(-c1/1050)\n",
    "\n",
    "plt.plot(c1,t1)\n",
    "plt.show()"
   ]
  },
  {
   "cell_type": "markdown",
   "id": "ce18fb11-3c24-4f21-bdef-003b64e8c3c2",
   "metadata": {},
   "source": [
    "We find a middle regime that follows an exponential law, and somewhat different behavior for small and large number of characters."
   ]
  },
  {
   "cell_type": "markdown",
   "id": "44a75129-7c85-4678-8c7b-d737e1a3d31d",
   "metadata": {},
   "source": [
    "### Evolution of tweets on papers per year"
   ]
  },
  {
   "cell_type": "code",
   "execution_count": 5,
   "id": "873dc3b4-f138-424d-81ab-00f2ffe19024",
   "metadata": {},
   "outputs": [
    {
     "data": {
      "image/png": "[encoded data removed]",
      "text/plain": [
       "<Figure size 432x288 with 1 Axes>"
      ]
     },
     "metadata": {
      "needs_background": "light"
     },
     "output_type": "display_data"
    }
   ],
   "source": [
    "yr_p = [i for i in range(16,23)]  # year list\n",
    "num_of_months_per_year = [len(df[df['year']==str(yr)]['month'].unique()) for yr in range(16,23)]  # count unique number of months in dataframe per year\n",
    "\n",
    "num_per_year_per_month = [num_per_year[i]/num_of_months_per_year[i] for i in range(len(num_per_year))]  # normalize number of tweets per year per month\n",
    "plt.plot(yr_p,num_per_year_per_month,'bo')\n",
    "plt.xlabel('Year')\n",
    "plt.ylabel('Average papers per month')\n",
    "plt.grid()\n",
    "plt.ylim([0, 220])\n",
    "\n",
    "plt.show()"
   ]
  },
  {
   "cell_type": "markdown",
   "id": "f3ce1285-e6a5-4bf2-9776-e4a7155149b2",
   "metadata": {},
   "source": [
    "Obviously the above metric plot suffers from biases involving query choice, but it indicates the rise in popularity of academics in Twitter writing about their papers. \n",
    "\n",
    "Note, near the end of 2017, Twitter expanded their character limit from 140 to 280 characters per tweet, which could be a contributing factor to the increase."
   ]
  },
  {
   "cell_type": "markdown",
   "id": "dd42d049-2a63-4e93-9425-33adbcc8b073",
   "metadata": {},
   "source": [
    "### Investigate reallly long tweets"
   ]
  },
  {
   "cell_type": "code",
   "execution_count": 6,
   "id": "82abd906-41c6-4f46-803d-3d272ded3e35",
   "metadata": {},
   "outputs": [
    {
     "data": {
      "text/html": [
       "<div>\n",
       "<style scoped>\n",
       "    .dataframe tbody tr th:only-of-type {\n",
       "        vertical-align: middle;\n",
       "    }\n",
       "\n",
       "    .dataframe tbody tr th {\n",
       "        vertical-align: top;\n",
       "    }\n",
       "\n",
       "    .dataframe thead th {\n",
       "        text-align: right;\n",
       "    }\n",
       "</style>\n",
       "<table border=\"1\" class=\"dataframe\">\n",
       "  <thead>\n",
       "    <tr style=\"text-align: right;\">\n",
       "      <th></th>\n",
       "      <th>Unnamed: 0</th>\n",
       "      <th>TweetID</th>\n",
       "      <th>AuthorID</th>\n",
       "      <th>AuthorName</th>\n",
       "      <th>Tweets</th>\n",
       "      <th>arxiv_link</th>\n",
       "      <th>Abstract</th>\n",
       "      <th>Title</th>\n",
       "      <th>Thread_length</th>\n",
       "      <th>Tweets_coarse</th>\n",
       "      <th>year</th>\n",
       "      <th>month</th>\n",
       "      <th>tweet_length</th>\n",
       "    </tr>\n",
       "  </thead>\n",
       "  <tbody>\n",
       "    <tr>\n",
       "      <th>2631</th>\n",
       "      <td>35</td>\n",
       "      <td>1196267948056424448</td>\n",
       "      <td>3245949691</td>\n",
       "      <td>Rebecca Leane</td>\n",
       "      <td>New paper! Cooking Pasta with Dark Matter: Kin...</td>\n",
       "      <td>https://arxiv.org/abs/1911.06334</td>\n",
       "      <td>Neutron stars serve as excellent next-generati...</td>\n",
       "      <td>Warming Nuclear Pasta with Dark Matter: Kineti...</td>\n",
       "      <td>36</td>\n",
       "      <td>['New paper!\\n\\nCooking Pasta with Dark Matter...</td>\n",
       "      <td>19</td>\n",
       "      <td>11</td>\n",
       "      <td>8981</td>\n",
       "    </tr>\n",
       "    <tr>\n",
       "      <th>4031</th>\n",
       "      <td>89</td>\n",
       "      <td>1212988781537554432</td>\n",
       "      <td>2416760538</td>\n",
       "      <td>Peter Gao</td>\n",
       "      <td>New paper! \"Deflating Super-Puffs: Impact of P...</td>\n",
       "      <td>https://arxiv.org/abs/2001.00055</td>\n",
       "      <td>The observed mass-radius relationship of low-m...</td>\n",
       "      <td>Deflating Super-Puffs: Impact of Photochemical...</td>\n",
       "      <td>45</td>\n",
       "      <td>['New paper! \"Deflating Super-Puffs: Impact of...</td>\n",
       "      <td>20</td>\n",
       "      <td>01</td>\n",
       "      <td>9857</td>\n",
       "    </tr>\n",
       "    <tr>\n",
       "      <th>4300</th>\n",
       "      <td>241</td>\n",
       "      <td>1311851889009418241</td>\n",
       "      <td>3245949691</td>\n",
       "      <td>Rebecca Leane</td>\n",
       "      <td>New paper! Exoplanets as New Sub-GeV Dark Matt...</td>\n",
       "      <td>https://arxiv.org/abs/2010.00015</td>\n",
       "      <td>We present exoplanets as new targets to discov...</td>\n",
       "      <td>Exoplanets as Sub-GeV Dark Matter Detectors</td>\n",
       "      <td>46</td>\n",
       "      <td>['New paper!\\n\\nExoplanets as New Sub-GeV Dark...</td>\n",
       "      <td>20</td>\n",
       "      <td>10</td>\n",
       "      <td>9231</td>\n",
       "    </tr>\n",
       "    <tr>\n",
       "      <th>4390</th>\n",
       "      <td>5</td>\n",
       "      <td>1334191213306654720</td>\n",
       "      <td>143430352</td>\n",
       "      <td>Rachael Meager</td>\n",
       "      <td>Hello! Tamara Broderick, Ryan Giordano and I h...</td>\n",
       "      <td>https://arxiv.org/abs/2011.14999</td>\n",
       "      <td>We propose a method to assess the sensitivity ...</td>\n",
       "      <td>An Automatic Finite-Sample Robustness Metric: ...</td>\n",
       "      <td>71</td>\n",
       "      <td>['Hello! Tamara Broderick, Ryan Giordano and I...</td>\n",
       "      <td>20</td>\n",
       "      <td>11</td>\n",
       "      <td>12188</td>\n",
       "    </tr>\n",
       "    <tr>\n",
       "      <th>4544</th>\n",
       "      <td>159</td>\n",
       "      <td>1332290582778142720</td>\n",
       "      <td>1212040530592333826</td>\n",
       "      <td>Sunny Vagnozzi</td>\n",
       "      <td>A few days ago, with Avi Loeb from Harvard (th...</td>\n",
       "      <td>https://arxiv.org/abs/2011.11645</td>\n",
       "      <td>The question of whether Cosmic Microwave Backg...</td>\n",
       "      <td>Eppur \\`e piatto? The cosmic chronometer take ...</td>\n",
       "      <td>43</td>\n",
       "      <td>['A few days ago, with Avi Loeb from Harvard (...</td>\n",
       "      <td>20</td>\n",
       "      <td>11</td>\n",
       "      <td>10386</td>\n",
       "    </tr>\n",
       "    <tr>\n",
       "      <th>4640</th>\n",
       "      <td>68</td>\n",
       "      <td>1339231323995713537</td>\n",
       "      <td>4365927557</td>\n",
       "      <td>Dr. Jake Turner 🌅</td>\n",
       "      <td>***New 1st author paper ***** \"The search for ...</td>\n",
       "      <td>http://arxiv.org/abs/2012.07926</td>\n",
       "      <td>Observing planetary auroral radio emission is ...</td>\n",
       "      <td>The search for radio emission from the exoplan...</td>\n",
       "      <td>31</td>\n",
       "      <td>['***New 1st author paper *****\\n\\n\"The search...</td>\n",
       "      <td>20</td>\n",
       "      <td>12</td>\n",
       "      <td>9509</td>\n",
       "    </tr>\n",
       "    <tr>\n",
       "      <th>4641</th>\n",
       "      <td>69</td>\n",
       "      <td>1339219770730799106</td>\n",
       "      <td>3308167500</td>\n",
       "      <td>David C. Norris, MD 🌻</td>\n",
       "      <td>NEW #DTAT paper: What Were They Thinking? Phar...</td>\n",
       "      <td>https://arxiv.org/abs/2012.05301</td>\n",
       "      <td>If explicit, formal consideration of clinical ...</td>\n",
       "      <td>What Were They Thinking? Pharmacologic priors ...</td>\n",
       "      <td>39</td>\n",
       "      <td>['NEW #DTAT paper: What Were They Thinking? Ph...</td>\n",
       "      <td>20</td>\n",
       "      <td>12</td>\n",
       "      <td>8580</td>\n",
       "    </tr>\n",
       "    <tr>\n",
       "      <th>4917</th>\n",
       "      <td>147</td>\n",
       "      <td>1234301978156634112</td>\n",
       "      <td>3245949691</td>\n",
       "      <td>Rebecca Leane</td>\n",
       "      <td>Galactic Center Excess update! &lt;LINK&gt; &lt;LINK&gt; W...</td>\n",
       "      <td>https://arxiv.org/abs/2002.12370</td>\n",
       "      <td>We re-examine evidence that the Galactic Cente...</td>\n",
       "      <td>Spurious Point Source Signals in the Galactic ...</td>\n",
       "      <td>46</td>\n",
       "      <td>['Galactic Center Excess update! \\n&lt;LINK&gt;\\n&lt;LI...</td>\n",
       "      <td>20</td>\n",
       "      <td>02</td>\n",
       "      <td>9756</td>\n",
       "    </tr>\n",
       "    <tr>\n",
       "      <th>5090</th>\n",
       "      <td>4</td>\n",
       "      <td>1259420853026119682</td>\n",
       "      <td>2603024598</td>\n",
       "      <td>Ricardo Pérez-Marco</td>\n",
       "      <td>New paper \"The Cantor Riemannium\". First examp...</td>\n",
       "      <td>https://arxiv.org/abs/2004.10541</td>\n",
       "      <td>The Riemann surface of a holomorphic germ is t...</td>\n",
       "      <td>The Cantor Riemannium</td>\n",
       "      <td>38</td>\n",
       "      <td>['New paper \"The Cantor Riemannium\". First exa...</td>\n",
       "      <td>20</td>\n",
       "      <td>04</td>\n",
       "      <td>9131</td>\n",
       "    </tr>\n",
       "    <tr>\n",
       "      <th>5139</th>\n",
       "      <td>53</td>\n",
       "      <td>1255095770627428352</td>\n",
       "      <td>3308167500</td>\n",
       "      <td>David C. Norris, MD 🌻</td>\n",
       "      <td>NEW WORKING PAPER @arxiv … A retrospective, mo...</td>\n",
       "      <td>https://arxiv.org/abs/2004.12755</td>\n",
       "      <td>The commonplace description of phase 1 clinica...</td>\n",
       "      <td>Retrospective analysis of a fatal dose-finding...</td>\n",
       "      <td>52</td>\n",
       "      <td>['NEW WORKING PAPER @arxiv …\\n\\nA retrospectiv...</td>\n",
       "      <td>20</td>\n",
       "      <td>04</td>\n",
       "      <td>11021</td>\n",
       "    </tr>\n",
       "    <tr>\n",
       "      <th>6368</th>\n",
       "      <td>12</td>\n",
       "      <td>1356057142709477382</td>\n",
       "      <td>3245949691</td>\n",
       "      <td>Rebecca Leane</td>\n",
       "      <td>New paper! Celestial-Body Focused Dark Matter ...</td>\n",
       "      <td>https://arxiv.org/abs/2101.12213</td>\n",
       "      <td>Indirect detection experiments typically measu...</td>\n",
       "      <td>Celestial-Body Focused Dark Matter Annihilatio...</td>\n",
       "      <td>39</td>\n",
       "      <td>['New paper!\\n\\nCelestial-Body Focused Dark Ma...</td>\n",
       "      <td>21</td>\n",
       "      <td>01</td>\n",
       "      <td>8489</td>\n",
       "    </tr>\n",
       "  </tbody>\n",
       "</table>\n",
       "</div>"
      ],
      "text/plain": [
       "      Unnamed: 0              TweetID             AuthorID  \\\n",
       "2631          35  1196267948056424448           3245949691   \n",
       "4031          89  1212988781537554432           2416760538   \n",
       "4300         241  1311851889009418241           3245949691   \n",
       "4390           5  1334191213306654720            143430352   \n",
       "4544         159  1332290582778142720  1212040530592333826   \n",
       "4640          68  1339231323995713537           4365927557   \n",
       "4641          69  1339219770730799106           3308167500   \n",
       "4917         147  1234301978156634112           3245949691   \n",
       "5090           4  1259420853026119682           2603024598   \n",
       "5139          53  1255095770627428352           3308167500   \n",
       "6368          12  1356057142709477382           3245949691   \n",
       "\n",
       "                 AuthorName  \\\n",
       "2631          Rebecca Leane   \n",
       "4031              Peter Gao   \n",
       "4300          Rebecca Leane   \n",
       "4390         Rachael Meager   \n",
       "4544         Sunny Vagnozzi   \n",
       "4640      Dr. Jake Turner 🌅   \n",
       "4641  David C. Norris, MD 🌻   \n",
       "4917          Rebecca Leane   \n",
       "5090    Ricardo Pérez-Marco   \n",
       "5139  David C. Norris, MD 🌻   \n",
       "6368          Rebecca Leane   \n",
       "\n",
       "                                                 Tweets  \\\n",
       "2631  New paper! Cooking Pasta with Dark Matter: Kin...   \n",
       "4031  New paper! \"Deflating Super-Puffs: Impact of P...   \n",
       "4300  New paper! Exoplanets as New Sub-GeV Dark Matt...   \n",
       "4390  Hello! Tamara Broderick, Ryan Giordano and I h...   \n",
       "4544  A few days ago, with Avi Loeb from Harvard (th...   \n",
       "4640  ***New 1st author paper ***** \"The search for ...   \n",
       "4641  NEW #DTAT paper: What Were They Thinking? Phar...   \n",
       "4917  Galactic Center Excess update! <LINK> <LINK> W...   \n",
       "5090  New paper \"The Cantor Riemannium\". First examp...   \n",
       "5139  NEW WORKING PAPER @arxiv … A retrospective, mo...   \n",
       "6368  New paper! Celestial-Body Focused Dark Matter ...   \n",
       "\n",
       "                            arxiv_link  \\\n",
       "2631  https://arxiv.org/abs/1911.06334   \n",
       "4031  https://arxiv.org/abs/2001.00055   \n",
       "4300  https://arxiv.org/abs/2010.00015   \n",
       "4390  https://arxiv.org/abs/2011.14999   \n",
       "4544  https://arxiv.org/abs/2011.11645   \n",
       "4640   http://arxiv.org/abs/2012.07926   \n",
       "4641  https://arxiv.org/abs/2012.05301   \n",
       "4917  https://arxiv.org/abs/2002.12370   \n",
       "5090  https://arxiv.org/abs/2004.10541   \n",
       "5139  https://arxiv.org/abs/2004.12755   \n",
       "6368  https://arxiv.org/abs/2101.12213   \n",
       "\n",
       "                                               Abstract  \\\n",
       "2631  Neutron stars serve as excellent next-generati...   \n",
       "4031  The observed mass-radius relationship of low-m...   \n",
       "4300  We present exoplanets as new targets to discov...   \n",
       "4390  We propose a method to assess the sensitivity ...   \n",
       "4544  The question of whether Cosmic Microwave Backg...   \n",
       "4640  Observing planetary auroral radio emission is ...   \n",
       "4641  If explicit, formal consideration of clinical ...   \n",
       "4917  We re-examine evidence that the Galactic Cente...   \n",
       "5090  The Riemann surface of a holomorphic germ is t...   \n",
       "5139  The commonplace description of phase 1 clinica...   \n",
       "6368  Indirect detection experiments typically measu...   \n",
       "\n",
       "                                                  Title  Thread_length  \\\n",
       "2631  Warming Nuclear Pasta with Dark Matter: Kineti...             36   \n",
       "4031  Deflating Super-Puffs: Impact of Photochemical...             45   \n",
       "4300        Exoplanets as Sub-GeV Dark Matter Detectors             46   \n",
       "4390  An Automatic Finite-Sample Robustness Metric: ...             71   \n",
       "4544  Eppur \\`e piatto? The cosmic chronometer take ...             43   \n",
       "4640  The search for radio emission from the exoplan...             31   \n",
       "4641  What Were They Thinking? Pharmacologic priors ...             39   \n",
       "4917  Spurious Point Source Signals in the Galactic ...             46   \n",
       "5090                              The Cantor Riemannium             38   \n",
       "5139  Retrospective analysis of a fatal dose-finding...             52   \n",
       "6368  Celestial-Body Focused Dark Matter Annihilatio...             39   \n",
       "\n",
       "                                          Tweets_coarse year month  \\\n",
       "2631  ['New paper!\\n\\nCooking Pasta with Dark Matter...   19    11   \n",
       "4031  ['New paper! \"Deflating Super-Puffs: Impact of...   20    01   \n",
       "4300  ['New paper!\\n\\nExoplanets as New Sub-GeV Dark...   20    10   \n",
       "4390  ['Hello! Tamara Broderick, Ryan Giordano and I...   20    11   \n",
       "4544  ['A few days ago, with Avi Loeb from Harvard (...   20    11   \n",
       "4640  ['***New 1st author paper *****\\n\\n\"The search...   20    12   \n",
       "4641  ['NEW #DTAT paper: What Were They Thinking? Ph...   20    12   \n",
       "4917  ['Galactic Center Excess update! \\n<LINK>\\n<LI...   20    02   \n",
       "5090  ['New paper \"The Cantor Riemannium\". First exa...   20    04   \n",
       "5139  ['NEW WORKING PAPER @arxiv …\\n\\nA retrospectiv...   20    04   \n",
       "6368  ['New paper!\\n\\nCelestial-Body Focused Dark Ma...   21    01   \n",
       "\n",
       "      tweet_length  \n",
       "2631          8981  \n",
       "4031          9857  \n",
       "4300          9231  \n",
       "4390         12188  \n",
       "4544         10386  \n",
       "4640          9509  \n",
       "4641          8580  \n",
       "4917          9756  \n",
       "5090          9131  \n",
       "5139         11021  \n",
       "6368          8489  "
      ]
     },
     "execution_count": 6,
     "metadata": {},
     "output_type": "execute_result"
    }
   ],
   "source": [
    "df['tweet_length'] = df['Tweets'].apply(lambda x: len(x))\n",
    "\n",
    "df.loc[df['tweet_length']>8000]"
   ]
  },
  {
   "cell_type": "markdown",
   "id": "c2fd7d8a-5b3a-4b4f-89ca-d2cdcc7baa98",
   "metadata": {},
   "source": [
    "Apparently these threads are legit -- some authors are writing ~30 tweets or 10000 characters, roughly 2 two-column journal pages to my estimates -- A LOT!"
   ]
  },
  {
   "cell_type": "markdown",
   "id": "6d83b28e-3668-496e-b5c8-da06f4b8ea6d",
   "metadata": {},
   "source": [
    "### How many \"reasonably-sized\" tweets?"
   ]
  },
  {
   "cell_type": "code",
   "execution_count": 31,
   "id": "f508d5d6-3c30-42ea-99b2-0e32d87a82ac",
   "metadata": {},
   "outputs": [
    {
     "data": {
      "text/plain": [
       "4942"
      ]
     },
     "execution_count": 31,
     "metadata": {},
     "output_type": "execute_result"
    }
   ],
   "source": [
    "min_chars = 250\n",
    "max_chars = 2500\n",
    "df_mid = df.loc[df['tweet_length'] > min_chars].loc[df['tweet_length'] < max_chars]\n",
    "df_mid.drop(['Unnamed: 0'], axis=1, inplace=True)\n",
    "df_mid.reset_index()\n",
    "\n",
    "len(df_mid)"
   ]
  },
  {
   "cell_type": "markdown",
   "id": "a46df7db-0762-4727-a404-d5600bec101f",
   "metadata": {},
   "source": [
    "We find ~5000 tweets with characters count between 250 and 2500, roughly 50 to 500 tokens.\n",
    "\n",
    "These cuts eliminate many tweets that write little on the paper or a lot on the paper, potentially surpassing an abstract's length."
   ]
  },
  {
   "cell_type": "markdown",
   "id": "44879c7c-2a3f-4126-ae6c-b54e8c643617",
   "metadata": {},
   "source": [
    "#### Save \"reasonably-sized\" tweets"
   ]
  },
  {
   "cell_type": "code",
   "execution_count": 17,
   "id": "3625b279-670d-42f5-a481-e0ee57762bed",
   "metadata": {},
   "outputs": [],
   "source": [
    "df_mid.to_csv('data/data_mid.csv')"
   ]
  },
  {
   "cell_type": "markdown",
   "id": "3840c016-48e6-44c3-8782-531918ff2040",
   "metadata": {},
   "source": [
    "### Train-Val-Test split"
   ]
  },
  {
   "cell_type": "code",
   "execution_count": 20,
   "id": "7cb867b2-dc6b-446c-a69e-b1d0f497caf6",
   "metadata": {},
   "outputs": [],
   "source": [
    "from sklearn.model_selection import train_test_split\n",
    "\n",
    "df_mid_train, df_mid_rest = train_test_split(df_mid, test_size=0.2)\n",
    "df_mid_val, df_mid_test = train_test_split(df_mid_rest, test_size=0.5)\n",
    "\n",
    "df_mid_train.reset_index(inplace=True, drop=True)\n",
    "df_mid_val.reset_index(inplace=True, drop=True)\n",
    "df_mid_test.reset_index(inplace=True, drop=True)\n"
   ]
  },
  {
   "cell_type": "code",
   "execution_count": 21,
   "id": "8257abc2-ace7-47ac-820b-6a93de6beaa8",
   "metadata": {},
   "outputs": [],
   "source": [
    "# save sub-datasets\n",
    "df_mid_train.to_csv('data/data_mid_train.csv')\n",
    "df_mid_val.to_csv('data/data_mid_val.csv')\n",
    "df_mid_test.to_csv('data/data_mid_test.csv')"
   ]
  },
  {
   "cell_type": "markdown",
   "id": "f129c5d2-fd3c-48cc-abc2-af9d90b21b28",
   "metadata": {},
   "source": [
    "#### Save small dataset for debugging"
   ]
  },
  {
   "cell_type": "code",
   "execution_count": 22,
   "id": "a7ec9cbb-0512-4bb4-83cf-622a16ea487c",
   "metadata": {},
   "outputs": [],
   "source": [
    "df_mid_most, df_mid_debug = train_test_split(df_mid, test_size=0.07)\n",
    "\n",
    "df_mid_debug_train, df_mid_debug_rest = train_test_split(df_mid_debug, test_size=0.2)\n",
    "df_mid_debug_val, df_mid_debug_test = train_test_split(df_mid_debug_rest, test_size=0.5)\n",
    "\n",
    "df_mid_debug_train.reset_index(inplace=True, drop=True)\n",
    "df_mid_debug_val.reset_index(inplace=True, drop=True)\n",
    "df_mid_debug_test.reset_index(inplace=True, drop=True)\n",
    "\n",
    "df_mid_debug_train.to_csv('data/data_mid_debug_train.csv')\n",
    "df_mid_debug_val.to_csv('data/data_mid_debug_val.csv')\n",
    "df_mid_debug_test.to_csv('data/data_mid_debug_test.csv')"
   ]
  },
  {
   "cell_type": "markdown",
   "id": "968fd98e",
   "metadata": {},
   "source": [
    "# Sentiment"
   ]
  },
  {
   "cell_type": "markdown",
   "id": "a68f072a",
   "metadata": {},
   "source": [
    "Let us conduct an exploratory sentiment analysis with a built-in took of NLTK."
   ]
  },
  {
   "cell_type": "code",
   "execution_count": 1,
   "id": "9ece487d",
   "metadata": {},
   "outputs": [],
   "source": [
    "import pandas as pd\n",
    "import numpy as np\n",
    "import matplotlib.pyplot as plt\n",
    "df = pd.read_csv('data/full_data.csv')"
   ]
  },
  {
   "cell_type": "code",
   "execution_count": 2,
   "id": "6054368d",
   "metadata": {},
   "outputs": [
    {
     "name": "stderr",
     "output_type": "stream",
     "text": [
      "[nltk_data] Downloading package vader_lexicon to\n",
      "[nltk_data]     /Users/nitsanbar/nltk_data...\n",
      "[nltk_data]   Package vader_lexicon is already up-to-date!\n"
     ]
    },
    {
     "data": {
      "text/plain": [
       "True"
      ]
     },
     "execution_count": 2,
     "metadata": {},
     "output_type": "execute_result"
    }
   ],
   "source": [
    "import nltk\n",
    "nltk.download('vader_lexicon')"
   ]
  },
  {
   "cell_type": "code",
   "execution_count": 3,
   "id": "b5545358",
   "metadata": {},
   "outputs": [],
   "source": [
    "# we define a minimal procedure to remove \"bad sentences\". Currently, it removes sentences which are very short (< 15 chars) or contain only a particular token (currently '<LINK>')\n",
    "def remove_bad_sentences(list, min_len=15, bad_word_list=[\"<LINK>\"]):\n",
    "    good_sentences = []\n",
    "    for sentence in list:\n",
    "        # if sentence equals a string in list\n",
    "        if sentence in bad_word_list:\n",
    "            continue\n",
    "        if len(sentence) < min_len:\n",
    "            continue\n",
    "        good_sentences.append(sentence)\n",
    "    return good_sentences"
   ]
  },
  {
   "cell_type": "code",
   "execution_count": 4,
   "id": "9e7ce217",
   "metadata": {},
   "outputs": [],
   "source": [
    "from nltk.sentiment import SentimentIntensityAnalyzer\n",
    "from nltk.tokenize import sent_tokenize, word_tokenize\n",
    "\n",
    "sia = SentimentIntensityAnalyzer()\n",
    "sia_scores = []\n",
    "\n",
    "min_num_sentences = 5\n",
    "property = 'pos'\n",
    "sia_prop_moments = []\n",
    "sia_prop = []\n",
    "# run on dataframe of tweets\n",
    "for i in range(len(df)):\n",
    "    tweet = df['Tweets'][i]\n",
    "\n",
    "    # compute overall sia score for the tweet\n",
    "    sia_scores.append(sia.polarity_scores(tweet))\n",
    "    \n",
    "    # tokenize the tweet into sentences, then compute sia score for each sentence and compute the \"moment\" of a property defined above\n",
    "    sent_list = sent_tokenize(tweet)\n",
    "    sent_list = remove_bad_sentences(sent_list)\n",
    "    \n",
    "    # only conduct a sentence-by-sentence analysis if the tweet has at least min_num_sentences\n",
    "    if len(sent_list) >= min_num_sentences:\n",
    "        sum_prop_moment = 0\n",
    "        sum_prop = 0\n",
    "        for i, sent in enumerate(sent_list):\n",
    "            sia_sent = sia.polarity_scores(sent)\n",
    "            sum_prop_moment += sia_sent[property] * i / (len(sent_list) - 1)\n",
    "            sum_prop += sia_sent[property]\n",
    "        if sum_prop_moment == 0 and sum_prop == 0:\n",
    "            prop_moment = 0\n",
    "        else:\n",
    "            prop_moment = sum_prop_moment / sum_prop\n",
    "        sia_prop_moments.append(prop_moment)\n",
    "        sia_prop.append(sum_prop / len(sent_list))"
   ]
  },
  {
   "cell_type": "code",
   "execution_count": 5,
   "id": "6cdbe4f1",
   "metadata": {},
   "outputs": [
    {
     "data": {
      "image/png": "[encoded data removed]",
      "text/plain": [
       "<Figure size 432x288 with 1 Axes>"
      ]
     },
     "metadata": {
      "needs_background": "light"
     },
     "output_type": "display_data"
    }
   ],
   "source": [
    "# plot sia_prop_moments histogram\n",
    "plt.hist(sia_prop_moments, bins=7)\n",
    "\n",
    "# plot gaussian curve\n",
    "c1 = np.arange(0.0, 1.0, 0.01)\n",
    "t1 = 1000* np.exp(-(c1-0.56)**2/(2*0.14**2))\n",
    "plt.plot(c1,t1)\n",
    "plt.xlabel(property + ' moment')\n",
    "plt.legend(['Histogram', 'Gaussian\\n$\\mu=0.56, \\sigma=0.14$'], loc='upper left')\n",
    "plt.show()\n"
   ]
  },
  {
   "cell_type": "markdown",
   "id": "fc555766",
   "metadata": {},
   "source": [
    "The moment suggests that a positive sentiment is not particularly skewed necessarily towards the beginning or the end of the Tweet. This conclusion is somewhat preliminary however, since we used a sentiment analysis tool which is not specialized to Twitter."
   ]
  },
  {
   "cell_type": "code",
   "execution_count": 6,
   "id": "6ac078d9",
   "metadata": {},
   "outputs": [
    {
     "data": {
      "image/png": "[encoded data removed]",
      "text/plain": [
       "<Figure size 432x288 with 1 Axes>"
      ]
     },
     "metadata": {
      "needs_background": "light"
     },
     "output_type": "display_data"
    }
   ],
   "source": [
    "compound_score = [sia_score['compound'] for sia_score in sia_scores]\n",
    "pos_score = [sia_score['pos'] for sia_score in sia_scores]\n",
    "neu_score = [sia_score['neu'] for sia_score in sia_scores]\n",
    "neg_score = [sia_score['neg'] for sia_score in sia_scores]\n",
    "# plot histogram of compound score\n",
    "plt.hist(compound_score, alpha=0.5, bins=9)\n",
    "plt.hist(pos_score, alpha=0.5,bins=9)\n",
    "plt.hist(neu_score, alpha=0.5,bins=9)\n",
    "plt.hist(neg_score, alpha=0.5,bins=9)\n",
    "plt.legend(['compound','positive','neutral','negative'])\n",
    "plt.show()"
   ]
  },
  {
   "cell_type": "markdown",
   "id": "b1c01b52",
   "metadata": {},
   "source": [
    "By the metric of the sentiment scores that we adopted, we find that our Tweets are more positive than negative (not a shocker), but generally neutral (perhaps not a shocker)."
   ]
  },
  {
   "cell_type": "markdown",
   "id": "e293c88b-72f8-4d45-8d3f-afc7aa68c7a3",
   "metadata": {},
   "source": [
    "# Exploratory ROUGE"
   ]
  },
  {
   "cell_type": "markdown",
   "id": "f4ee3a70",
   "metadata": {},
   "source": [
    "Here we don't really do ROUGE in the sense of evaluating given summary vs. generated summary (this we do after training, in evaluate_predictions.ipynb). We adopt the ROUGE metric as a comparison between an abstract and the real Tweet."
   ]
  },
  {
   "cell_type": "code",
   "execution_count": 24,
   "id": "6ae86fad-fd44-4ae1-b667-4a3b5749c4c5",
   "metadata": {},
   "outputs": [],
   "source": [
    "from datasets import load_metric\n",
    "\n",
    "rouge_score = load_metric(\"rouge\")"
   ]
  },
  {
   "cell_type": "code",
   "execution_count": 26,
   "id": "e0045248-4e3a-49cc-963a-4df81f33c77a",
   "metadata": {},
   "outputs": [],
   "source": [
    "score_list = []\n",
    "\n",
    "for label_example, text_example in zip(df_mid['Tweets'],df_mid['Abstract']):\n",
    "    scores = rouge_score.compute(predictions=[label_example], references=[text_example])\n",
    "    \n",
    "    score_list.append(scores)"
   ]
  },
  {
   "cell_type": "code",
   "execution_count": 27,
   "id": "9941b381-9a26-4e1e-8b9d-1ca377b89019",
   "metadata": {},
   "outputs": [],
   "source": [
    "rouge1_mid_fmeasure_base = [score_list[i]['rouge1'].mid.fmeasure for i in range(len(score_list))]\n",
    "rouge2_mid_fmeasure_base = [score_list[i]['rouge2'].mid.fmeasure for i in range(len(score_list))]\n",
    "rougeL_mid_fmeasure_base = [score_list[i]['rougeL'].mid.fmeasure for i in range(len(score_list))]\n",
    "\n",
    "rouge1_mid_precision_base = [score_list[i]['rouge1'].mid.precision for i in range(len(score_list))]\n",
    "rouge2_mid_precision_base = [score_list[i]['rouge2'].mid.precision for i in range(len(score_list))]\n",
    "rougeL_mid_precision_base = [score_list[i]['rougeL'].mid.precision for i in range(len(score_list))]"
   ]
  },
  {
   "cell_type": "markdown",
   "id": "574fd3f8-4740-4ede-8dff-a4f0b673723d",
   "metadata": {},
   "source": [
    "### Baseline ROUGE score histogram"
   ]
  },
  {
   "cell_type": "code",
   "execution_count": 28,
   "id": "00e6827a-5deb-4e6f-afef-4eb7e2916d02",
   "metadata": {},
   "outputs": [
    {
     "data": {
      "image/png": "[encoded data removed]",
      "text/plain": [
       "<Figure size 432x288 with 1 Axes>"
      ]
     },
     "metadata": {
      "needs_background": "light"
     },
     "output_type": "display_data"
    },
    {
     "data": {
      "image/png": "[encoded data removed]",
      "text/plain": [
       "<Figure size 432x288 with 1 Axes>"
      ]
     },
     "metadata": {
      "needs_background": "light"
     },
     "output_type": "display_data"
    }
   ],
   "source": [
    "plt.hist(rouge1_mid_fmeasure_base, alpha=0.5)\n",
    "plt.hist(rouge2_mid_fmeasure_base, alpha=0.5)\n",
    "plt.hist(rougeL_mid_fmeasure_base, alpha=0.5)\n",
    "plt.xlabel('ROUGE1,2,L mid f measure score')\n",
    "plt.ylabel('Tweets')\n",
    "plt.yscale(\"log\")\n",
    "plt.legend(['1','2','L'])\n",
    "plt.show()\n",
    "\n",
    "plt.hist(rouge1_mid_precision_base, alpha=0.5)\n",
    "plt.hist(rouge2_mid_precision_base, alpha=0.5)\n",
    "plt.hist(rougeL_mid_precision_base, alpha=0.5)\n",
    "plt.xlabel('ROUGE1,2,L mid precision score')\n",
    "plt.ylabel('Tweets')\n",
    "plt.yscale(\"log\")\n",
    "plt.legend(['1','2','L'])\n",
    "plt.show()"
   ]
  },
  {
   "cell_type": "markdown",
   "id": "edb66246-71d6-412e-89f1-2db8ad29dc0f",
   "metadata": {},
   "source": [
    "# Subjects"
   ]
  },
  {
   "cell_type": "markdown",
   "id": "9283ba36",
   "metadata": {},
   "source": [
    "In this section we investigate the subject distribution . After collecting the data, I wanted to check the distribution of arXiv sections (e.g. hep, astro, cs, etc.). Since I didn't save the entire arXiv pages and I didn't want to run the Twitter scan from scrach, I wrote below a code that obtains this information, resaves the full_data.csv as full_data_subjects.csv, and plots a few statistics."
   ]
  },
  {
   "cell_type": "code",
   "execution_count": 4,
   "id": "636aaf6d-370c-4483-80b5-75f47d9985d0",
   "metadata": {},
   "outputs": [],
   "source": [
    "# parsing functions, slightly modified from data_pull/arxiv_utils.py\n",
    "from html.parser import HTMLParser\n",
    "import requests\n",
    "\n",
    "class arXivHTMLParser(HTMLParser):\n",
    "    '''\n",
    "    Based on https://docs.python.org/3/library/html.parser.html\n",
    "    '''\n",
    "    def __init__(self):\n",
    "        HTMLParser.__init__(self)\n",
    "        \n",
    "        self.title = ''\n",
    "        self.authors = []\n",
    "        self.abstract = ''\n",
    "        \n",
    "        self.title_flag = False\n",
    "        self.authors_flag = False\n",
    "        self.abstract_flag = False\n",
    "        self.metadata = []\n",
    "        self.metatable_flag = False\n",
    "        \n",
    "    def handle_starttag(self, tag, attrs):\n",
    "        # print(\"Encountered a start tag:\", tag)\n",
    "        if tag == 'title' and self.title == '' :\n",
    "            self.title_flag = True\n",
    "        for attr in attrs:\n",
    "            if attr == ('class', 'metatable'):\n",
    "                self.metatable_flag = True\n",
    "\n",
    "    def handle_endtag(self, tag):\n",
    "        # print(\"Encountered an end tag :\", tag)\n",
    "        if tag == 'title':\n",
    "            self.title_flag = False\n",
    "            \n",
    "        if self.authors_flag and tag == 'div':\n",
    "            self.authors_flag = False\n",
    "        \n",
    "        if self.abstract_flag and tag == 'blockquote':\n",
    "            self.abstract_flag = False\n",
    "        \n",
    "    def handle_data(self, data):\n",
    "        # print(\"Encountered some data  :\", data)\n",
    "        if self.title_flag:\n",
    "            self.title = data\n",
    "            \n",
    "        if data == 'Authors:':\n",
    "            self.authors_flag = True\n",
    "        \n",
    "        if self.authors_flag and data != 'Authors:' and data != ', ':\n",
    "            self.authors.append(data)\n",
    "\n",
    "        if data == 'Abstract:':\n",
    "            self.abstract_flag = True\n",
    "            \n",
    "        if data != 'Abstract:' and self.abstract_flag:\n",
    "            self.abstract = self.abstract + data\n",
    "\n",
    "        if self.metatable_flag:\n",
    "            if data == 'Which authors of this paper are endorsers?':\n",
    "                self.metatable_flag = False\n",
    "            if data != '\\n':\n",
    "                self.metadata.append(data)\n",
    "\n",
    "            \n",
    "def get_arXiv_details(url):\n",
    "    '''\n",
    "        This method uses the above HTML parser (arXivHTMLParser)\n",
    "        accepts a url of the variety 'https://arxiv.org/abs/xxxx.xxxxx'\n",
    "        returns the [title, authors, abstracts]\n",
    "        \n",
    "        does not support comments, journal, and other information -- but can be extended to support it by modifying this method and the parser\n",
    "    '''\n",
    "    url = url.replace('arxiv','export.arxiv') # arxiv asks bots to use this website, see https://arxiv.org/denied.html ; otherwise it blocks the bot often\n",
    "    \n",
    "    req = requests.get(url, 'html.parser')\n",
    "    parser = arXivHTMLParser()\n",
    "    parser.feed(req.text)\n",
    "    \n",
    "    parser.title = parser.title[13:] # in title: remove [xxxx.xxxxx] prefix\n",
    "    parser.abstract = parser.abstract.replace('\\n',' ')[1:] # replace \\n by space and remove two spaces in the beginning ('  '). Used to be 2: with arxiv.org rather than export.arxiv.org\n",
    "    \n",
    "    # remove extra entries from author list. Was unnecessary in arxiv.org, became necessary with export.arxiv.org\n",
    "    try:\n",
    "        parser.authors.remove('\\n')\n",
    "    except:\n",
    "        pass\n",
    "    try:\n",
    "        while True:\n",
    "            parser.authors.remove(', \\n')\n",
    "    except ValueError:\n",
    "        pass\n",
    "    \n",
    "    return parser.title, parser.authors, parser.abstract, parser.metadata"
   ]
  },
  {
   "cell_type": "code",
   "execution_count": 5,
   "id": "adf855f2-30ba-472f-9ab4-df8acfdf9538",
   "metadata": {},
   "outputs": [],
   "source": [
    "# dedicated functions for parsing subjects\n",
    "import re\n",
    "\n",
    "def get_subjects_from_line(line):\n",
    "    listparse = re.findall(r'\\([^()]*\\)', line)\n",
    "    return [listparse[i][1:-1] for i in range(len(listparse))]\n",
    "    \n",
    "def get_subjects(metadata):\n",
    "    for i, line in enumerate(metadata):\n",
    "        if line == 'Subjects:':\n",
    "            break\n",
    "    subject_main = metadata[i+1]\n",
    "    subject_main = get_subjects_from_line(subject_main)\n",
    "\n",
    "    subject_cross = ''\n",
    "    if metadata[i+2][0] == ';':\n",
    "        subject_cross = metadata[i+2]\n",
    "    subject_cross = get_subjects_from_line(subject_cross)\n",
    "\n",
    "    for subject in subject_cross:\n",
    "        subject_main.append(subject)\n",
    "\n",
    "    return subject_main"
   ]
  },
  {
   "cell_type": "code",
   "execution_count": 50,
   "id": "bde1b645",
   "metadata": {},
   "outputs": [],
   "source": [
    "# load data\n",
    "import pandas as pd\n",
    "df = pd.read_csv('data/full_data.csv')"
   ]
  },
  {
   "cell_type": "code",
   "execution_count": 51,
   "id": "b8dfa518-e5a8-4d7b-9a7b-0d14a4396a28",
   "metadata": {},
   "outputs": [],
   "source": [
    "# actual re-run on arxiv, very long run-time, better skip and load from file\n",
    "metadata_list = []\n",
    "df_arxiv_subjects = []\n",
    "i = 0\n",
    "while True:\n",
    "    try:\n",
    "        title, authors, abstract, metadata = get_arXiv_details(df['arxiv_link'].iloc[i])\n",
    "        metadata = [metadata[i].replace('\\n','') for i in range(len(metadata))]\n",
    "        metadata_list.append(metadata)\n",
    "        df_arxiv_subjects.append(get_subjects(metadata))\n",
    "        i += 1\n",
    "    except:\n",
    "        continue\n",
    "    if i == len(df):\n",
    "        break"
   ]
  },
  {
   "cell_type": "code",
   "execution_count": 55,
   "id": "8ab55be0",
   "metadata": {},
   "outputs": [
    {
     "data": {
      "text/html": [
       "<div>\n",
       "<style scoped>\n",
       "    .dataframe tbody tr th:only-of-type {\n",
       "        vertical-align: middle;\n",
       "    }\n",
       "\n",
       "    .dataframe tbody tr th {\n",
       "        vertical-align: top;\n",
       "    }\n",
       "\n",
       "    .dataframe thead th {\n",
       "        text-align: right;\n",
       "    }\n",
       "</style>\n",
       "<table border=\"1\" class=\"dataframe\">\n",
       "  <thead>\n",
       "    <tr style=\"text-align: right;\">\n",
       "      <th></th>\n",
       "      <th>Unnamed: 0</th>\n",
       "      <th>TweetID</th>\n",
       "      <th>AuthorID</th>\n",
       "      <th>AuthorName</th>\n",
       "      <th>Tweets</th>\n",
       "      <th>arxiv_link</th>\n",
       "      <th>Abstract</th>\n",
       "      <th>Title</th>\n",
       "      <th>Thread_length</th>\n",
       "      <th>Tweets_coarse</th>\n",
       "      <th>arxiv_subjects</th>\n",
       "    </tr>\n",
       "  </thead>\n",
       "  <tbody>\n",
       "    <tr>\n",
       "      <th>0</th>\n",
       "      <td>0</td>\n",
       "      <td>695565872891621376</td>\n",
       "      <td>75249390</td>\n",
       "      <td>Axel Maas</td>\n",
       "      <td>I have published a new blog entry on our recen...</td>\n",
       "      <td>http://arxiv.org/abs/1601.02006</td>\n",
       "      <td>Observable states are gauge-invariant. In a no...</td>\n",
       "      <td>Gauge invariance and the physical spectrum in ...</td>\n",
       "      <td>1</td>\n",
       "      <td>['I have published a new blog entry on our rec...</td>\n",
       "      <td>[hep-ph]</td>\n",
       "    </tr>\n",
       "    <tr>\n",
       "      <th>1</th>\n",
       "      <td>1</td>\n",
       "      <td>694223402932899841</td>\n",
       "      <td>212431150</td>\n",
       "      <td>Faryad Sahneh</td>\n",
       "      <td>Our new paper: \"Sequential Monte Carlo Filteri...</td>\n",
       "      <td>http://arxiv.org/abs/1601.07606</td>\n",
       "      <td>We use a multivariate formulation of sequentia...</td>\n",
       "      <td>Sequential Monte Carlo Filtering Estimation of...</td>\n",
       "      <td>1</td>\n",
       "      <td>['Our new paper: \"Sequential Monte Carlo Filte...</td>\n",
       "      <td>[stat.AP, q-bio.PE]</td>\n",
       "    </tr>\n",
       "    <tr>\n",
       "      <th>2</th>\n",
       "      <td>2</td>\n",
       "      <td>694093392414937088</td>\n",
       "      <td>2999702157</td>\n",
       "      <td>Anton Ilderton</td>\n",
       "      <td>New paper on measuring vacuum birefringence us...</td>\n",
       "      <td>http://arxiv.org/abs/1601.08045</td>\n",
       "      <td>The measurement of vacuum polarisation effects...</td>\n",
       "      <td>Prospects for studying vacuum polarisation usi...</td>\n",
       "      <td>1</td>\n",
       "      <td>['New paper on measuring vacuum birefringence ...</td>\n",
       "      <td>[hep-ph, physics.optics]</td>\n",
       "    </tr>\n",
       "    <tr>\n",
       "      <th>3</th>\n",
       "      <td>3</td>\n",
       "      <td>694076172372697088</td>\n",
       "      <td>1430303833</td>\n",
       "      <td>Dave Woods</td>\n",
       "      <td>New paper on arXiv on screening for GLMs with ...</td>\n",
       "      <td>http://arxiv.org/abs/1601.08088</td>\n",
       "      <td>The first investigation is made of designs for...</td>\n",
       "      <td>Model selection via Bayesian information capac...</td>\n",
       "      <td>1</td>\n",
       "      <td>['New paper on arXiv on screening for GLMs wit...</td>\n",
       "      <td>[stat.ME]</td>\n",
       "    </tr>\n",
       "  </tbody>\n",
       "</table>\n",
       "</div>"
      ],
      "text/plain": [
       "   Unnamed: 0             TweetID    AuthorID      AuthorName  \\\n",
       "0           0  695565872891621376    75249390       Axel Maas   \n",
       "1           1  694223402932899841   212431150   Faryad Sahneh   \n",
       "2           2  694093392414937088  2999702157  Anton Ilderton   \n",
       "3           3  694076172372697088  1430303833      Dave Woods   \n",
       "\n",
       "                                              Tweets  \\\n",
       "0  I have published a new blog entry on our recen...   \n",
       "1  Our new paper: \"Sequential Monte Carlo Filteri...   \n",
       "2  New paper on measuring vacuum birefringence us...   \n",
       "3  New paper on arXiv on screening for GLMs with ...   \n",
       "\n",
       "                        arxiv_link  \\\n",
       "0  http://arxiv.org/abs/1601.02006   \n",
       "1  http://arxiv.org/abs/1601.07606   \n",
       "2  http://arxiv.org/abs/1601.08045   \n",
       "3  http://arxiv.org/abs/1601.08088   \n",
       "\n",
       "                                            Abstract  \\\n",
       "0  Observable states are gauge-invariant. In a no...   \n",
       "1  We use a multivariate formulation of sequentia...   \n",
       "2  The measurement of vacuum polarisation effects...   \n",
       "3  The first investigation is made of designs for...   \n",
       "\n",
       "                                               Title  Thread_length  \\\n",
       "0  Gauge invariance and the physical spectrum in ...              1   \n",
       "1  Sequential Monte Carlo Filtering Estimation of...              1   \n",
       "2  Prospects for studying vacuum polarisation usi...              1   \n",
       "3  Model selection via Bayesian information capac...              1   \n",
       "\n",
       "                                       Tweets_coarse            arxiv_subjects  \n",
       "0  ['I have published a new blog entry on our rec...                  [hep-ph]  \n",
       "1  ['Our new paper: \"Sequential Monte Carlo Filte...       [stat.AP, q-bio.PE]  \n",
       "2  ['New paper on measuring vacuum birefringence ...  [hep-ph, physics.optics]  \n",
       "3  ['New paper on arXiv on screening for GLMs wit...                 [stat.ME]  "
      ]
     },
     "execution_count": 55,
     "metadata": {},
     "output_type": "execute_result"
    }
   ],
   "source": [
    "# insert new list into dataframe\n",
    "df.insert(len(df.columns), 'arxiv_subjects', df_arxiv_subjects)\n",
    "df.head(4)"
   ]
  },
  {
   "cell_type": "code",
   "execution_count": 56,
   "id": "96a034dc",
   "metadata": {},
   "outputs": [],
   "source": [
    "# uncomment to save again. Generating this dataset takes a long time, so commented to avoid overwrite in a mass run\n",
    "# df.to_csv('data/full_data_subjects.csv')"
   ]
  },
  {
   "cell_type": "code",
   "execution_count": 3,
   "id": "924df535",
   "metadata": {},
   "outputs": [
    {
     "data": {
      "text/html": [
       "<div>\n",
       "<style scoped>\n",
       "    .dataframe tbody tr th:only-of-type {\n",
       "        vertical-align: middle;\n",
       "    }\n",
       "\n",
       "    .dataframe tbody tr th {\n",
       "        vertical-align: top;\n",
       "    }\n",
       "\n",
       "    .dataframe thead th {\n",
       "        text-align: right;\n",
       "    }\n",
       "</style>\n",
       "<table border=\"1\" class=\"dataframe\">\n",
       "  <thead>\n",
       "    <tr style=\"text-align: right;\">\n",
       "      <th></th>\n",
       "      <th>Unnamed: 0</th>\n",
       "      <th>Unnamed: 0.1</th>\n",
       "      <th>TweetID</th>\n",
       "      <th>AuthorID</th>\n",
       "      <th>AuthorName</th>\n",
       "      <th>Tweets</th>\n",
       "      <th>arxiv_link</th>\n",
       "      <th>Abstract</th>\n",
       "      <th>Title</th>\n",
       "      <th>Thread_length</th>\n",
       "      <th>Tweets_coarse</th>\n",
       "      <th>arxiv_subjects</th>\n",
       "    </tr>\n",
       "  </thead>\n",
       "  <tbody>\n",
       "    <tr>\n",
       "      <th>0</th>\n",
       "      <td>0</td>\n",
       "      <td>0</td>\n",
       "      <td>695565872891621376</td>\n",
       "      <td>75249390</td>\n",
       "      <td>Axel Maas</td>\n",
       "      <td>I have published a new blog entry on our recen...</td>\n",
       "      <td>http://arxiv.org/abs/1601.02006</td>\n",
       "      <td>Observable states are gauge-invariant. In a no...</td>\n",
       "      <td>Gauge invariance and the physical spectrum in ...</td>\n",
       "      <td>1</td>\n",
       "      <td>['I have published a new blog entry on our rec...</td>\n",
       "      <td>[hep-ph]</td>\n",
       "    </tr>\n",
       "    <tr>\n",
       "      <th>1</th>\n",
       "      <td>1</td>\n",
       "      <td>1</td>\n",
       "      <td>694223402932899841</td>\n",
       "      <td>212431150</td>\n",
       "      <td>Faryad Sahneh</td>\n",
       "      <td>Our new paper: \"Sequential Monte Carlo Filteri...</td>\n",
       "      <td>http://arxiv.org/abs/1601.07606</td>\n",
       "      <td>We use a multivariate formulation of sequentia...</td>\n",
       "      <td>Sequential Monte Carlo Filtering Estimation of...</td>\n",
       "      <td>1</td>\n",
       "      <td>['Our new paper: \"Sequential Monte Carlo Filte...</td>\n",
       "      <td>[stat.AP, q-bio.PE]</td>\n",
       "    </tr>\n",
       "    <tr>\n",
       "      <th>2</th>\n",
       "      <td>2</td>\n",
       "      <td>2</td>\n",
       "      <td>694093392414937088</td>\n",
       "      <td>2999702157</td>\n",
       "      <td>Anton Ilderton</td>\n",
       "      <td>New paper on measuring vacuum birefringence us...</td>\n",
       "      <td>http://arxiv.org/abs/1601.08045</td>\n",
       "      <td>The measurement of vacuum polarisation effects...</td>\n",
       "      <td>Prospects for studying vacuum polarisation usi...</td>\n",
       "      <td>1</td>\n",
       "      <td>['New paper on measuring vacuum birefringence ...</td>\n",
       "      <td>[hep-ph, physics.optics]</td>\n",
       "    </tr>\n",
       "    <tr>\n",
       "      <th>3</th>\n",
       "      <td>3</td>\n",
       "      <td>3</td>\n",
       "      <td>694076172372697088</td>\n",
       "      <td>1430303833</td>\n",
       "      <td>Dave Woods</td>\n",
       "      <td>New paper on arXiv on screening for GLMs with ...</td>\n",
       "      <td>http://arxiv.org/abs/1601.08088</td>\n",
       "      <td>The first investigation is made of designs for...</td>\n",
       "      <td>Model selection via Bayesian information capac...</td>\n",
       "      <td>1</td>\n",
       "      <td>['New paper on arXiv on screening for GLMs wit...</td>\n",
       "      <td>[stat.ME]</td>\n",
       "    </tr>\n",
       "    <tr>\n",
       "      <th>4</th>\n",
       "      <td>4</td>\n",
       "      <td>4</td>\n",
       "      <td>693490180162977792</td>\n",
       "      <td>180240998</td>\n",
       "      <td>Franck Marchis</td>\n",
       "      <td>New @PlanetImager paper \"The PDS 66 Circumstel...</td>\n",
       "      <td>https://arxiv.org/abs/1601.07248</td>\n",
       "      <td>We present H and K band imaging polarimetry fo...</td>\n",
       "      <td>The PDS 66 Circumstellar Disk as seen in Polar...</td>\n",
       "      <td>1</td>\n",
       "      <td>['New @PlanetImager paper \"The PDS 66 Circumst...</td>\n",
       "      <td>[astro-ph.EP]</td>\n",
       "    </tr>\n",
       "  </tbody>\n",
       "</table>\n",
       "</div>"
      ],
      "text/plain": [
       "   Unnamed: 0  Unnamed: 0.1             TweetID    AuthorID      AuthorName  \\\n",
       "0           0             0  695565872891621376    75249390       Axel Maas   \n",
       "1           1             1  694223402932899841   212431150   Faryad Sahneh   \n",
       "2           2             2  694093392414937088  2999702157  Anton Ilderton   \n",
       "3           3             3  694076172372697088  1430303833      Dave Woods   \n",
       "4           4             4  693490180162977792   180240998  Franck Marchis   \n",
       "\n",
       "                                              Tweets  \\\n",
       "0  I have published a new blog entry on our recen...   \n",
       "1  Our new paper: \"Sequential Monte Carlo Filteri...   \n",
       "2  New paper on measuring vacuum birefringence us...   \n",
       "3  New paper on arXiv on screening for GLMs with ...   \n",
       "4  New @PlanetImager paper \"The PDS 66 Circumstel...   \n",
       "\n",
       "                         arxiv_link  \\\n",
       "0   http://arxiv.org/abs/1601.02006   \n",
       "1   http://arxiv.org/abs/1601.07606   \n",
       "2   http://arxiv.org/abs/1601.08045   \n",
       "3   http://arxiv.org/abs/1601.08088   \n",
       "4  https://arxiv.org/abs/1601.07248   \n",
       "\n",
       "                                            Abstract  \\\n",
       "0  Observable states are gauge-invariant. In a no...   \n",
       "1  We use a multivariate formulation of sequentia...   \n",
       "2  The measurement of vacuum polarisation effects...   \n",
       "3  The first investigation is made of designs for...   \n",
       "4  We present H and K band imaging polarimetry fo...   \n",
       "\n",
       "                                               Title  Thread_length  \\\n",
       "0  Gauge invariance and the physical spectrum in ...              1   \n",
       "1  Sequential Monte Carlo Filtering Estimation of...              1   \n",
       "2  Prospects for studying vacuum polarisation usi...              1   \n",
       "3  Model selection via Bayesian information capac...              1   \n",
       "4  The PDS 66 Circumstellar Disk as seen in Polar...              1   \n",
       "\n",
       "                                       Tweets_coarse            arxiv_subjects  \n",
       "0  ['I have published a new blog entry on our rec...                  [hep-ph]  \n",
       "1  ['Our new paper: \"Sequential Monte Carlo Filte...       [stat.AP, q-bio.PE]  \n",
       "2  ['New paper on measuring vacuum birefringence ...  [hep-ph, physics.optics]  \n",
       "3  ['New paper on arXiv on screening for GLMs wit...                 [stat.ME]  \n",
       "4  ['New @PlanetImager paper \"The PDS 66 Circumst...             [astro-ph.EP]  "
      ]
     },
     "execution_count": 3,
     "metadata": {},
     "output_type": "execute_result"
    }
   ],
   "source": [
    "# reload modified data\n",
    "import ast\n",
    "import pandas as pd\n",
    "df = pd.read_csv('data/full_data_subjects.csv')\n",
    "df['arxiv_subjects'] = df['arxiv_subjects'].apply(lambda x: ast.literal_eval(x))\n",
    "df.head(5)"
   ]
  },
  {
   "cell_type": "markdown",
   "id": "ef0b5c80",
   "metadata": {},
   "source": [
    "Statistics of subjects"
   ]
  },
  {
   "cell_type": "code",
   "execution_count": 4,
   "id": "19fce44d",
   "metadata": {},
   "outputs": [
    {
     "data": {
      "text/plain": [
       "<AxesSubplot:>"
      ]
     },
     "execution_count": 4,
     "metadata": {},
     "output_type": "execute_result"
    },
    {
     "data": {
      "image/png": "[encoded data removed]",
      "text/plain": [
       "<Figure size 432x288 with 1 Axes>"
      ]
     },
     "metadata": {
      "needs_background": "light"
     },
     "output_type": "display_data"
    }
   ],
   "source": [
    "subject_counts = df['arxiv_subjects'].apply(lambda x: x[0]).value_counts()\n",
    "subject_counts[subject_counts>80].sort_values().plot(kind = 'barh')"
   ]
  },
  {
   "cell_type": "markdown",
   "id": "a8f29954",
   "metadata": {},
   "source": [
    "The plot above is a bar plot of how many papers have a subject as their primary subject on arXiv -- in the full dataset -- with at least 80 occurences in the dataset.\n",
    "Perhaps not suprisingly, we find booming sections in computer science leading, along with astrophysics.\n",
    "\n",
    "Out of curiousity, let's check secondary sections:"
   ]
  },
  {
   "cell_type": "code",
   "execution_count": 20,
   "id": "45f9e231",
   "metadata": {},
   "outputs": [
    {
     "data": {
      "text/plain": [
       "<AxesSubplot:>"
      ]
     },
     "execution_count": 20,
     "metadata": {},
     "output_type": "execute_result"
    },
    {
     "data": {
      "image/png": "[encoded data removed]",
      "text/plain": [
       "<Figure size 432x288 with 1 Axes>"
      ]
     },
     "metadata": {
      "needs_background": "light"
     },
     "output_type": "display_data"
    }
   ],
   "source": [
    "# get df where length of arxiv_subjects is 2 or more\n",
    "df_subjects_multiple = df[df['arxiv_subjects'].apply(lambda x: len(x)>1)]\n",
    "list_secondary = df_subjects_multiple['arxiv_subjects'].apply(lambda x: x[1:]).to_list()\n",
    "list_secondary_flat = [item for sublist in list_secondary for item in sublist] # flatten list\n",
    "# return to dataframe and plot\n",
    "secondary_df = pd.Series(list_secondary_flat).value_counts()\n",
    "secondary_df[secondary_df>100].sort_values().plot(kind = 'barh')"
   ]
  },
  {
   "cell_type": "markdown",
   "id": "1d5c0564",
   "metadata": {},
   "source": [
    "This can be compared with https://arxiv.org/help/stats/2021_by_area\n",
    "\n",
    "Some cute sociological trends can be found. For example, even though the math section of arXiv is a factor of ~2 less prolific than cs, the math section is highly under-represented in our dataset, perhaps indicating that the math community is considerably less engaged in Twitter compared to math and physics communities."
   ]
  }
 ],
 "metadata": {
  "interpreter": {
   "hash": "cfe51a626cda2b044dfd7223b65bea869adf91f1a20dfea9a2d4979b930fc724"
  },
  "kernelspec": {
   "display_name": "Python 3 (ipykernel)",
   "language": "python",
   "name": "python3"
  },
  "language_info": {
   "codemirror_mode": {
    "name": "ipython",
    "version": 3
   },
   "file_extension": ".py",
   "mimetype": "text/x-python",
   "name": "python",
   "nbconvert_exporter": "python",
   "pygments_lexer": "ipython3",
   "version": "3.9.7"
  }
 },
 "nbformat": 4,
 "nbformat_minor": 5
}
